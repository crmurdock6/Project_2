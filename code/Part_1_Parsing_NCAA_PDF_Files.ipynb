{
 "cells": [
  {
   "cell_type": "markdown",
   "metadata": {},
   "source": [
    "### Imports"
   ]
  },
  {
   "cell_type": "code",
   "execution_count": 1,
   "metadata": {
    "collapsed": true
   },
   "outputs": [],
   "source": [
    "import requests\n",
    "import pandas as pd\n",
    "from bs4 import BeautifulSoup\n",
    "import PyPDF2\n",
    "import numpy as np\n",
    "import re"
   ]
  },
  {
   "cell_type": "markdown",
   "metadata": {},
   "source": [
    "2014-2016 need pages 7-9, beore 2014 pages 6-8"
   ]
  },
  {
   "cell_type": "markdown",
   "metadata": {},
   "source": [
    "### Acquire NCAA attendance files from the NCAA website using BeautifulSoup"
   ]
  },
  {
   "cell_type": "code",
   "execution_count": 4,
   "metadata": {},
   "outputs": [],
   "source": [
    "url = 'http://www.ncaa.org/championships/statistics/ncaa-football-attendance'\n",
    "\n",
    "response = requests.get(url)\n",
    "page = response.text\n",
    "soup = BeautifulSoup(page,\"html5lib\")"
   ]
  },
  {
   "cell_type": "code",
   "execution_count": 5,
   "metadata": {},
   "outputs": [
    {
     "name": "stdout",
     "output_type": "stream",
     "text": [
      "http://fs.ncaa.org/Docs/stats/football_records/Attendance/2016.pdf\n",
      "http://fs.ncaa.org/Docs/stats/football_records/Attendance/2015.pdf\n",
      "http://fs.ncaa.org/Docs/stats/football_records/Attendance/2014.pdf\n",
      "http://fs.ncaa.org/Docs/stats/football_records/Attendance/2013Release.pdf\n",
      "http://web1.ncaa.org/web_files/stats/football_records/Attendance/2012.pdf\n",
      "http://web1.ncaa.org/web_files/stats/football_records/Attendance/2011.pdf\n",
      "http://web1.ncaa.org/web_files/stats/football_records/Attendance/2010.pdf\n",
      "http://web1.ncaa.org/web_files/stats/football_records/Attendance/2009.pdf\n",
      "http://web1.ncaa.org/web_files/stats/football_records/Attendance/2008.pdf\n",
      "http://web1.ncaa.org/web_files/stats/football_records/Attendance/2007.pdf\n",
      "http://web1.ncaa.org/web_files/stats/football_records/Attendance/2006.pdf\n",
      "http://web1.ncaa.org/web_files/stats/football_records/Attendance/2005.pdf\n",
      "http://web1.ncaa.org/web_files/stats/football_records/Attendance/2004.pdf\n",
      "http://web1.ncaa.org/web_files/stats/football_records/Attendance/2003.pdf\n"
     ]
    }
   ],
   "source": [
    "attendance_files = []\n",
    "\n",
    "pdf_search = soup.find(class_ = \"field-item even\").find_all('a')\n",
    "#print(pdf_search)\n",
    "for pdf in pdf_search:\n",
    "    attendance_files.append(pdf.get('href'))\n",
    "for link in attendance_files:\n",
    "    print(link)"
   ]
  },
  {
   "cell_type": "markdown",
   "metadata": {},
   "source": [
    "### Save PDF files locally"
   ]
  },
  {
   "cell_type": "code",
   "execution_count": null,
   "metadata": {
    "collapsed": true
   },
   "outputs": [],
   "source": [
    "path = '/Users/murdock/Documents/PDF_files/'\n",
    "for file in attendance_files:\n",
    "    url = file\n",
    "    response = requests.get(url)\n",
    "    with open(path + file.split('/')[-1], 'wb') as f:\n",
    "        f.write(response.content)"
   ]
  },
  {
   "cell_type": "markdown",
   "metadata": {},
   "source": [
    "### Make lists (manually) for all FCA and FBS teams with _ characters to eventually do a reshaping into a df"
   ]
  },
  {
   "cell_type": "code",
   "execution_count": 6,
   "metadata": {
    "collapsed": true
   },
   "outputs": [],
   "source": [
    "list_of_fcs_teams = ['Alabama A&M', 'Alabama St.', 'Albany (NY)', 'Alcorn', 'Alcorn St.', 'Ark.-Pine Bluff', 'Austin Peay', \n",
    "                      'Bethune-Cookman', 'Brown', 'Bryant', 'Bucknell', 'Butler', 'Cal Poly', 'Campbell',\n",
    "                      'Central Ark', 'Central Conn. St.', 'Charleston So.', 'Chattanooga', 'Coastal Caro.', 'Colgate', 'Columbia',\n",
    "                      'Cornell', 'Dartmouth', 'Davidson', 'Dayton', 'Delaware', 'Delaware St.', 'Drake', 'Duquesne',\n",
    "                      'Eastern Ill.', 'Eastern Ky.', 'Eastern Wash.', 'Elon', 'ETSU', 'Florida A&M', 'Fordham',\n",
    "                      'Furman', 'Gardner-Webb', 'Georgetown', 'Grambling', 'Hampton', 'Harvard', 'Holy Cross',\n",
    "                      'Houston Baptist', 'Howard', 'Idaho St.', 'Illinois St.', 'Indiana St.', 'Jackson St.',\n",
    "                      'Jacksonville', 'Jacksonville St.', 'James Madison', 'Kennesaw St.', 'Lafayette',\n",
    "                      'Lamar University', 'Lehigh', 'Liberty', 'Maine', 'Marist', 'McNeese', 'Mcneese St.', 'Mercer',\n",
    "                      'Mississippi Val.', 'Missouri St.', 'Monmouth', 'Montana', 'Montana St.', 'Morehead St.',\n",
    "                      'Morgan St.', 'Murray St.', 'N.C. A&T', 'N.C. Central', 'New Hampshire', 'Nicholls St.',\n",
    "                      'Norfolk St.', 'North Dakota', 'North Dakota St.', 'Northern Ariz.', 'Northern Colo.',\n",
    "                      'Northwestern St.', 'Penn', 'Portland St.', 'Prairie View', 'Presbyterian', 'Princeton',\n",
    "                      'Rhode Island', 'Richmond', 'Robert Morris', 'Sacramento St.', 'Sacred Heart',\n",
    "                      'Saint Francis (PA)', 'St. Francis (PA)', 'Sam Houston St.', 'Samford', 'San Diego', 'Savannah St.', 'South Alabama', 'SFA',\n",
    "                      'South Carolina St.', 'South Dakota', 'South Dakota St.', 'Southeast Mo. St.',\n",
    "                      'Southeastern La.', 'Southern Ill.', 'Southern U.', 'Southern Utah', 'Stephen F. Austin', 'Stetson', 'Stony Brook',\n",
    "                      'Tennessee St.', 'Tennessee Tech', 'Texas Southern', 'The Citadel', 'Towson', 'UC Davis',\n",
    "                      'UNI', 'UT Martin', 'Valparaiso', 'Villanova', 'VMI', 'Wagner', 'Weber St.', 'Western Caro.',\n",
    "                      'Western Ill.', 'William & Mary', 'Wofford', 'Yale', 'Youngstown St.']\n",
    "\n",
    "replacement_fcs_names = ['Alabama_A_M', 'Alabama_St', 'Albany_NY', 'Alcorn_St', 'Alcorn_St', 'Ark_Pine_Bluff', 'Austin_Peay',\n",
    "                         'Bethune_Cookman', 'Brown', 'Bryant', 'Bucknell', 'Butler', 'Cal_Poly', 'Campbell',\n",
    "                         'Central_Ark', 'Central_Conn_St', 'Charleston_So', 'Chattanooga', 'Coastal_Caro', 'Colgate', 'Columbia',\n",
    "                         'Cornell', 'Dartmouth', 'Davidson', 'Dayton', 'Delaware', 'Delaware_St', 'Drake',\n",
    "                         'Duquesne', 'Eastern_Ill', 'Eastern_Ky', 'Eastern_Wash', 'Elon', 'ETSU', 'Florida_A_M',\n",
    "                         'Fordham', 'Furman', 'Gardner_Webb', 'Georgetown', 'Grambling', 'Hampton', 'Harvard',\n",
    "                         'Holy_Cross', 'Houston_Baptist', 'Howard', 'Idaho_St', 'Illinois_St', 'Indiana_St',\n",
    "                         'Jackson_St', 'Jacksonville', 'Jacksonville_St', 'James_Madison', 'Kennesaw_St',\n",
    "                         'Lafayette', 'Lamar_University', 'Lehigh', 'Liberty', 'Maine', 'Marist', 'McNeese', 'Mcneese_St',\n",
    "                         'Mercer', 'Mississippi_Val', 'Missouri_St', 'Monmouth', 'Montana', 'Montana_St',\n",
    "                         'Morehead_St', 'Morgan_St', 'Murray_St', 'N_C_A_T', 'N_C_Central', 'New_Hampshire',\n",
    "                         'Nicholls_St', 'Norfolk_St', 'North_Dakota', 'North_Dakota_St', 'Northern_Ariz',\n",
    "                         'Northern_Colo', 'Northwestern_St', 'Penn', 'Portland_St', 'Prairie_View', 'Presbyterian', 'Princeton',\n",
    "                         'Rhode_Island', 'Richmond', 'Robert_Morris', 'Sacramento_St', 'Sacred_Heart',\n",
    "                         'Saint_Francis_PA', 'Saint_Francis_PA', 'Sam_Houston_St', 'Samford', 'San_Diego', 'Savannah_St', 'South_Alabama', 'SFA',\n",
    "                         'South_Carolina_St', 'South_Dakota', 'South_Dakota_St', 'Southeast_Mo_St',\n",
    "                         'Southeastern_La', 'Southern_Ill', 'Southern_U', 'Southern_Utah', 'Stephen_F_Austin', 'Stetson', \n",
    "                         'Stony_Brook', 'Tennessee_St', 'Tennessee_Tech', 'Texas_Southern', 'The_Citadel',\n",
    "                         'Towson', 'UC_Davis', 'UNI', 'UT_Martin', 'Valparaiso', 'Villanova', 'VMI', 'Wagner',\n",
    "                         'Weber_St', 'Western_Caro', 'Western_Ill', 'William_Mary', 'Wofford', 'Yale',\n",
    "                         'Youngstown_St']"
   ]
  },
  {
   "cell_type": "code",
   "execution_count": 7,
   "metadata": {
    "collapsed": true
   },
   "outputs": [],
   "source": [
    "list_of_fbs_teams = ['Air Force', 'Akron', 'Alabama', 'Appalachian St.', 'Arizona', 'Arizona St.', 'Arkansas', 'Arkansas St.',\n",
    "                     'Army West Point', 'Auburn', 'Ball St.', 'Baylor', 'Boise St.', 'Boston College',\n",
    "                     'Bowling Green', 'Buffalo', 'BYU', 'California', 'Central Mich.', 'Charlotte', 'Cincinnati',\n",
    "                     'Clemson', 'Colorado', 'Colorado St.', 'Duke', 'East Carolina', 'Eastern Mich.', 'FIU',\n",
    "                     'Fla. Atlantic', 'Florida', 'Florida St.', 'Fresno St.', 'Ga. Southern', 'Georgia',\n",
    "                     'Georgia St.', 'Georgia Tech', 'Hawaii', 'Houston', 'Idaho', 'Illinois', 'Indiana', 'Iowa',\n",
    "                     'Iowa St.', 'Kansas', 'Kansas St.', 'Kent St.', 'Kentucky', 'La.-Monroe', 'Louisiana',\n",
    "                     'Louisiana Tech', 'Louisville', 'LSU', 'Marshall', 'Maryland', 'Massachusetts', 'Memphis',\n",
    "                     'Miami (FL)', 'Miami (OH)', 'Michigan', 'Michigan St.', 'Middle Tenn.', 'Minnesota',\n",
    "                     'Mississippi St.', 'Missouri', 'Navy', 'Nebraska', 'Nevada', 'New Mexico', 'New Mexico St.',\n",
    "                     'North Carolina', 'North Carolina St.', 'North Texas', 'Northern Ill.', 'Northwestern',\n",
    "                     'Notre Dame', 'Ohio', 'Ohio St.', 'Oklahoma', 'Oklahoma St.', 'Old Dominion', 'Ole Miss',\n",
    "                     'Oregon', 'Oregon St.', 'Penn St.', 'Pittsburgh', 'Purdue', 'Rice', 'Rutgers', 'San Diego St.',\n",
    "                     'San Jose St.', 'SMU', 'South Ala.', 'South Carolina', 'South Fla.', 'Southern California',\n",
    "                     'Southern Miss.', 'Stanford', 'Syracuse', 'TCU', 'Temple', 'Tennessee', 'Texas', 'Texas A&M',\n",
    "                     'Texas St.', 'Texas Tech', 'Toledo', 'Troy', 'Tulane', 'Tulsa', 'UCF', 'UCLA', 'UConn',\n",
    "                     'UNLV', 'Utah', 'Utah St.', 'UTEP', 'UTSA', 'Vanderbilt', 'Virginia', 'Virginia Tech',\n",
    "                     'Wake Forest', 'Washington', 'Washington St.', 'West Virginia', 'Western Ky.', 'Western Mich.',\n",
    "                     'Wisconsin', 'Wyoming']\n",
    "\n",
    "replacement_fbs_names = ['Air_Force', 'Akron', 'Alabama', 'Appalachian_St', 'Arizona', 'Arizona_St', 'Arkansas', 'Arkansas_St',\n",
    "                         'Army_West_Point', 'Auburn', 'Ball_St', 'Baylor', 'Boise_St', 'Boston_College',\n",
    "                         'Bowling_Green', 'Buffalo', 'BYU', 'California', 'Central_Mich', 'Charlotte', 'Cincinnati',\n",
    "                         'Clemson', 'Colorado', 'Colorado_St', 'Duke', 'East_Carolina', 'Eastern_Mich', 'FIU',\n",
    "                         'Fla_Atlantic', 'Florida', 'Florida_St', 'Fresno_St', 'Ga_Southern', 'Georgia',\n",
    "                         'Georgia_St', 'Georgia_Tech', 'Hawaii', 'Houston', 'Idaho', 'Illinois', 'Indiana', 'Iowa',\n",
    "                         'Iowa_St', 'Kansas', 'Kansas_St', 'Kent_St', 'Kentucky', 'La_Monroe', 'Louisiana',\n",
    "                         'Louisiana_Tech', 'Louisville', 'LSU', 'Marshall', 'Maryland', 'Massachusetts', 'Memphis',\n",
    "                         'Miami_FL', 'Miami_OH', 'Michigan', 'Michigan_St', 'Middle_Tenn', 'Minnesota',\n",
    "                         'Mississippi_St', 'Missouri', 'Navy', 'Nebraska', 'Nevada', 'New_Mexico', 'New_Mexico_St',\n",
    "                         'North_Carolina', 'North_Carolina_St', 'North_Texas', 'Northern_Ill', 'Northwestern',\n",
    "                         'Notre_Dame', 'Ohio', 'Ohio_St.', 'Oklahoma', 'Oklahoma_St', 'Old_Dominion', 'Ole_Miss',\n",
    "                         'Oregon', 'Oregon_St', 'Penn_St', 'Pittsburgh', 'Purdue', 'Rice', 'Rutgers', 'San_Diego_St',\n",
    "                         'San_Jose_St', 'SMU', 'South_Ala', 'South_Carolina', 'South_Fla', 'Southern_California',\n",
    "                         'Southern_Miss', 'Stanford', 'Syracuse', 'TCU', 'Temple', 'Tennessee', 'Texas', 'Texas_A_M',\n",
    "                         'Texas_St', 'Texas_Tech', 'Toledo', 'Troy', 'Tulane', 'Tulsa', 'UCF', 'UCLA', 'UConn',\n",
    "                         'UNLV', 'Utah', 'Utah_St', 'UTEP', 'UTSA', 'Vanderbilt', 'Virginia', 'Virginia_Tech',\n",
    "                         'Wake_Forest', 'Washington', 'Washington_St', 'West_Virginia', 'Western_Ky', 'Western_Mich',\n",
    "                         'Wisconsin', 'Wyoming']"
   ]
  },
  {
   "cell_type": "code",
   "execution_count": 8,
   "metadata": {
    "collapsed": true
   },
   "outputs": [],
   "source": [
    "fbs = list(zip(list_of_fbs_teams, replacement_fbs_names))\n",
    "fcs = list(zip(list_of_fcs_teams, replacement_fcs_names))"
   ]
  },
  {
   "cell_type": "markdown",
   "metadata": {},
   "source": [
    "Combine FCS and FBS teams into one list"
   ]
  },
  {
   "cell_type": "code",
   "execution_count": 9,
   "metadata": {},
   "outputs": [
    {
     "data": {
      "text/plain": [
       "[('Southern California', 'Southern_California'),\n",
       " ('Saint Francis (PA)', 'Saint_Francis_PA'),\n",
       " ('South Carolina St.', 'South_Carolina_St'),\n",
       " ('North Carolina St.', 'North_Carolina_St'),\n",
       " ('Central Conn. St.', 'Central_Conn_St'),\n",
       " ('Southeast Mo. St.', 'Southeast_Mo_St'),\n",
       " ('Stephen F. Austin', 'Stephen_F_Austin'),\n",
       " ('Jacksonville St.', 'Jacksonville_St'),\n",
       " ('Lamar University', 'Lamar_University'),\n",
       " ('Mississippi Val.', 'Mississippi_Val'),\n",
       " ('North Dakota St.', 'North_Dakota_St'),\n",
       " ('Northwestern St.', 'Northwestern_St'),\n",
       " ('St. Francis (PA)', 'Saint_Francis_PA'),\n",
       " ('South Dakota St.', 'South_Dakota_St'),\n",
       " ('Southeastern La.', 'Southeastern_La'),\n",
       " ('Ark.-Pine Bluff', 'Ark_Pine_Bluff'),\n",
       " ('Bethune-Cookman', 'Bethune_Cookman'),\n",
       " ('Houston Baptist', 'Houston_Baptist'),\n",
       " ('Sam Houston St.', 'Sam_Houston_St'),\n",
       " ('Appalachian St.', 'Appalachian_St'),\n",
       " ('Army West Point', 'Army_West_Point'),\n",
       " ('Mississippi St.', 'Mississippi_St'),\n",
       " ('Charleston So.', 'Charleston_So'),\n",
       " ('Northern Ariz.', 'Northern_Ariz'),\n",
       " ('Northern Colo.', 'Northern_Colo'),\n",
       " ('Sacramento St.', 'Sacramento_St'),\n",
       " ('Tennessee Tech', 'Tennessee_Tech'),\n",
       " ('Texas Southern', 'Texas_Southern'),\n",
       " ('William & Mary', 'William_Mary'),\n",
       " ('Youngstown St.', 'Youngstown_St'),\n",
       " ('Boston College', 'Boston_College'),\n",
       " ('Louisiana Tech', 'Louisiana_Tech'),\n",
       " ('New Mexico St.', 'New_Mexico_St'),\n",
       " ('North Carolina', 'North_Carolina'),\n",
       " ('South Carolina', 'South_Carolina'),\n",
       " ('Southern Miss.', 'Southern_Miss'),\n",
       " ('Washington St.', 'Washington_St'),\n",
       " ('Coastal Caro.', 'Coastal_Caro'),\n",
       " ('Eastern Wash.', 'Eastern_Wash'),\n",
       " ('James Madison', 'James_Madison'),\n",
       " ('New Hampshire', 'New_Hampshire'),\n",
       " ('Robert Morris', 'Robert_Morris'),\n",
       " ('South Alabama', 'South_Alabama'),\n",
       " ('Southern Ill.', 'Southern_Ill'),\n",
       " ('Southern Utah', 'Southern_Utah'),\n",
       " ('Tennessee St.', 'Tennessee_St'),\n",
       " ('Western Caro.', 'Western_Caro'),\n",
       " ('Bowling Green', 'Bowling_Green'),\n",
       " ('Central Mich.', 'Central_Mich'),\n",
       " ('East Carolina', 'East_Carolina'),\n",
       " ('Eastern Mich.', 'Eastern_Mich'),\n",
       " ('Fla. Atlantic', 'Fla_Atlantic'),\n",
       " ('Massachusetts', 'Massachusetts'),\n",
       " ('Northern Ill.', 'Northern_Ill'),\n",
       " ('San Diego St.', 'San_Diego_St'),\n",
       " ('Virginia Tech', 'Virginia_Tech'),\n",
       " ('West Virginia', 'West_Virginia'),\n",
       " ('Western Mich.', 'Western_Mich'),\n",
       " ('Delaware St.', 'Delaware_St'),\n",
       " ('Eastern Ill.', 'Eastern_Ill'),\n",
       " ('Gardner-Webb', 'Gardner_Webb'),\n",
       " ('Illinois St.', 'Illinois_St'),\n",
       " ('Jacksonville', 'Jacksonville'),\n",
       " ('Kennesaw St.', 'Kennesaw_St'),\n",
       " ('Missouri St.', 'Missouri_St'),\n",
       " ('Morehead St.', 'Morehead_St'),\n",
       " ('N.C. Central', 'N_C_Central'),\n",
       " ('Nicholls St.', 'Nicholls_St'),\n",
       " ('North Dakota', 'North_Dakota'),\n",
       " ('Portland St.', 'Portland_St'),\n",
       " ('Prairie View', 'Prairie_View'),\n",
       " ('Presbyterian', 'Presbyterian'),\n",
       " ('Rhode Island', 'Rhode_Island'),\n",
       " ('Sacred Heart', 'Sacred_Heart'),\n",
       " ('Savannah St.', 'Savannah_St'),\n",
       " ('South Dakota', 'South_Dakota'),\n",
       " ('Western Ill.', 'Western_Ill'),\n",
       " ('Arkansas St.', 'Arkansas_St'),\n",
       " ('Colorado St.', 'Colorado_St'),\n",
       " ('Ga. Southern', 'Ga_Southern'),\n",
       " ('Georgia Tech', 'Georgia_Tech'),\n",
       " ('Michigan St.', 'Michigan_St'),\n",
       " ('Middle Tenn.', 'Middle_Tenn'),\n",
       " ('Northwestern', 'Northwestern'),\n",
       " ('Oklahoma St.', 'Oklahoma_St'),\n",
       " ('Old Dominion', 'Old_Dominion'),\n",
       " ('San Jose St.', 'San_Jose_St'),\n",
       " ('Alabama A&M', 'Alabama_A_M'),\n",
       " ('Alabama St.', 'Alabama_St'),\n",
       " ('Albany (NY)', 'Albany_NY'),\n",
       " ('Austin Peay', 'Austin_Peay'),\n",
       " ('Central Ark', 'Central_Ark'),\n",
       " ('Chattanooga', 'Chattanooga'),\n",
       " ('Eastern Ky.', 'Eastern_Ky'),\n",
       " ('Florida A&M', 'Florida_A_M'),\n",
       " ('Indiana St.', 'Indiana_St'),\n",
       " ('Jackson St.', 'Jackson_St'),\n",
       " ('Mcneese St.', 'Mcneese_St'),\n",
       " ('Montana St.', 'Montana_St'),\n",
       " ('Norfolk St.', 'Norfolk_St'),\n",
       " ('Southern U.', 'Southern_U'),\n",
       " ('Stony Brook', 'Stony_Brook'),\n",
       " ('The Citadel', 'The_Citadel'),\n",
       " ('Arizona St.', 'Arizona_St'),\n",
       " ('Florida St.', 'Florida_St'),\n",
       " ('Georgia St.', 'Georgia_St'),\n",
       " ('North Texas', 'North_Texas'),\n",
       " ('Wake Forest', 'Wake_Forest'),\n",
       " ('Western Ky.', 'Western_Ky'),\n",
       " ('Alcorn St.', 'Alcorn_St'),\n",
       " ('Georgetown', 'Georgetown'),\n",
       " ('Holy Cross', 'Holy_Cross'),\n",
       " ('Morgan St.', 'Morgan_St'),\n",
       " ('Murray St.', 'Murray_St'),\n",
       " ('Valparaiso', 'Valparaiso'),\n",
       " ('California', 'California'),\n",
       " ('Cincinnati', 'Cincinnati'),\n",
       " ('Fresno St.', 'Fresno_St'),\n",
       " ('Kansas St.', 'Kansas_St'),\n",
       " ('La.-Monroe', 'La_Monroe'),\n",
       " ('Louisville', 'Louisville'),\n",
       " ('Miami (FL)', 'Miami_FL'),\n",
       " ('Miami (OH)', 'Miami_OH'),\n",
       " ('New Mexico', 'New_Mexico'),\n",
       " ('Notre Dame', 'Notre_Dame'),\n",
       " ('Oregon St.', 'Oregon_St'),\n",
       " ('Pittsburgh', 'Pittsburgh'),\n",
       " ('South Ala.', 'South_Ala'),\n",
       " ('South Fla.', 'South_Fla'),\n",
       " ('Texas Tech', 'Texas_Tech'),\n",
       " ('Vanderbilt', 'Vanderbilt'),\n",
       " ('Washington', 'Washington'),\n",
       " ('Dartmouth', 'Dartmouth'),\n",
       " ('Grambling', 'Grambling'),\n",
       " ('Idaho St.', 'Idaho_St'),\n",
       " ('Lafayette', 'Lafayette'),\n",
       " ('Princeton', 'Princeton'),\n",
       " ('San Diego', 'San_Diego'),\n",
       " ('UT Martin', 'UT_Martin'),\n",
       " ('Villanova', 'Villanova'),\n",
       " ('Weber St.', 'Weber_St'),\n",
       " ('Air Force', 'Air_Force'),\n",
       " ('Boise St.', 'Boise_St'),\n",
       " ('Charlotte', 'Charlotte'),\n",
       " ('Louisiana', 'Louisiana'),\n",
       " ('Minnesota', 'Minnesota'),\n",
       " ('Tennessee', 'Tennessee'),\n",
       " ('Texas A&M', 'Texas_A_M'),\n",
       " ('Texas St.', 'Texas_St'),\n",
       " ('Wisconsin', 'Wisconsin'),\n",
       " ('Bucknell', 'Bucknell'),\n",
       " ('Cal Poly', 'Cal_Poly'),\n",
       " ('Campbell', 'Campbell'),\n",
       " ('Columbia', 'Columbia'),\n",
       " ('Davidson', 'Davidson'),\n",
       " ('Delaware', 'Delaware'),\n",
       " ('Duquesne', 'Duquesne'),\n",
       " ('Monmouth', 'Monmouth'),\n",
       " ('N.C. A&T', 'N_C_A_T'),\n",
       " ('Richmond', 'Richmond'),\n",
       " ('UC Davis', 'UC_Davis'),\n",
       " ('Arkansas', 'Arkansas'),\n",
       " ('Ball St.', 'Ball_St'),\n",
       " ('Colorado', 'Colorado'),\n",
       " ('Illinois', 'Illinois'),\n",
       " ('Iowa St.', 'Iowa_St'),\n",
       " ('Kent St.', 'Kent_St'),\n",
       " ('Kentucky', 'Kentucky'),\n",
       " ('Marshall', 'Marshall'),\n",
       " ('Maryland', 'Maryland'),\n",
       " ('Michigan', 'Michigan'),\n",
       " ('Missouri', 'Missouri'),\n",
       " ('Nebraska', 'Nebraska'),\n",
       " ('Ohio St.', 'Ohio_St.'),\n",
       " ('Oklahoma', 'Oklahoma'),\n",
       " ('Ole Miss', 'Ole_Miss'),\n",
       " ('Penn St.', 'Penn_St'),\n",
       " ('Stanford', 'Stanford'),\n",
       " ('Syracuse', 'Syracuse'),\n",
       " ('Utah St.', 'Utah_St'),\n",
       " ('Virginia', 'Virginia'),\n",
       " ('Colgate', 'Colgate'),\n",
       " ('Cornell', 'Cornell'),\n",
       " ('Fordham', 'Fordham'),\n",
       " ('Hampton', 'Hampton'),\n",
       " ('Harvard', 'Harvard'),\n",
       " ('Liberty', 'Liberty'),\n",
       " ('McNeese', 'McNeese'),\n",
       " ('Montana', 'Montana'),\n",
       " ('Samford', 'Samford'),\n",
       " ('Stetson', 'Stetson'),\n",
       " ('Wofford', 'Wofford'),\n",
       " ('Alabama', 'Alabama'),\n",
       " ('Arizona', 'Arizona'),\n",
       " ('Buffalo', 'Buffalo'),\n",
       " ('Clemson', 'Clemson'),\n",
       " ('Florida', 'Florida'),\n",
       " ('Georgia', 'Georgia'),\n",
       " ('Houston', 'Houston'),\n",
       " ('Indiana', 'Indiana'),\n",
       " ('Memphis', 'Memphis'),\n",
       " ('Rutgers', 'Rutgers'),\n",
       " ('Wyoming', 'Wyoming'),\n",
       " ('Alcorn', 'Alcorn_St'),\n",
       " ('Bryant', 'Bryant'),\n",
       " ('Butler', 'Butler'),\n",
       " ('Dayton', 'Dayton'),\n",
       " ('Furman', 'Furman'),\n",
       " ('Howard', 'Howard'),\n",
       " ('Lehigh', 'Lehigh'),\n",
       " ('Marist', 'Marist'),\n",
       " ('Mercer', 'Mercer'),\n",
       " ('Towson', 'Towson'),\n",
       " ('Wagner', 'Wagner'),\n",
       " ('Auburn', 'Auburn'),\n",
       " ('Baylor', 'Baylor'),\n",
       " ('Hawaii', 'Hawaii'),\n",
       " ('Kansas', 'Kansas'),\n",
       " ('Nevada', 'Nevada'),\n",
       " ('Oregon', 'Oregon'),\n",
       " ('Purdue', 'Purdue'),\n",
       " ('Temple', 'Temple'),\n",
       " ('Toledo', 'Toledo'),\n",
       " ('Tulane', 'Tulane'),\n",
       " ('Brown', 'Brown'),\n",
       " ('Drake', 'Drake'),\n",
       " ('Maine', 'Maine'),\n",
       " ('Akron', 'Akron'),\n",
       " ('Idaho', 'Idaho'),\n",
       " ('Texas', 'Texas'),\n",
       " ('Tulsa', 'Tulsa'),\n",
       " ('UConn', 'UConn'),\n",
       " ('Elon', 'Elon'),\n",
       " ('ETSU', 'ETSU'),\n",
       " ('Penn', 'Penn'),\n",
       " ('Yale', 'Yale'),\n",
       " ('Duke', 'Duke'),\n",
       " ('Iowa', 'Iowa'),\n",
       " ('Navy', 'Navy'),\n",
       " ('Ohio', 'Ohio'),\n",
       " ('Rice', 'Rice'),\n",
       " ('Troy', 'Troy'),\n",
       " ('UCLA', 'UCLA'),\n",
       " ('UNLV', 'UNLV'),\n",
       " ('Utah', 'Utah'),\n",
       " ('UTEP', 'UTEP'),\n",
       " ('UTSA', 'UTSA'),\n",
       " ('SFA', 'SFA'),\n",
       " ('UNI', 'UNI'),\n",
       " ('VMI', 'VMI'),\n",
       " ('BYU', 'BYU'),\n",
       " ('FIU', 'FIU'),\n",
       " ('LSU', 'LSU'),\n",
       " ('SMU', 'SMU'),\n",
       " ('TCU', 'TCU'),\n",
       " ('UCF', 'UCF')]"
      ]
     },
     "execution_count": 9,
     "metadata": {},
     "output_type": "execute_result"
    }
   ],
   "source": [
    "all_teams_sorted = sorted(fcs + fbs, key=lambda t: len(t[0]), reverse=True)\n",
    "all_teams_sorted"
   ]
  },
  {
   "cell_type": "markdown",
   "metadata": {},
   "source": [
    "### Look at one year of data to get workflow optimized"
   ]
  },
  {
   "cell_type": "code",
   "execution_count": 10,
   "metadata": {
    "collapsed": true
   },
   "outputs": [],
   "source": [
    "path_1 = '/Users/murdock/Documents/PDF_files/2016.pdf'\n",
    "pdfFileObj_1 = open(path_1, 'rb')\n",
    "pdfReader_1 = PyPDF2.PdfFileReader(pdfFileObj_1)"
   ]
  },
  {
   "cell_type": "code",
   "execution_count": 11,
   "metadata": {
    "collapsed": true
   },
   "outputs": [],
   "source": [
    "pageObj_1 = pdfReader_1.getPage(6)\n",
    "sp = pageObj_1.extractText()\n",
    "pageObj_2 = pdfReader_1.getPage(7)\n",
    "sp2 = pageObj_2.extractText()\n",
    "pageObj_3 = pdfReader_1.getPage(8)\n",
    "sp3 = pageObj_3.extractText()"
   ]
  },
  {
   "cell_type": "code",
   "execution_count": 12,
   "metadata": {
    "collapsed": true
   },
   "outputs": [
    {
     "data": {
      "text/plain": [
       "\"201\\n6 NCAA DIVISION I \\nFBS \\nTEAM\\n-BY-TEAM \\nHOME \\nATTENDANCE\\n  School\\n G Attendance\\n Average\\n Air Force\\n 6 177,519 29,587 Akron\\n 6 62,021 10,337 Alabama\\n 7 712,747 101,821 Appalachian St.\\n 6 156,916 26,153 Arizona\\n 7 338,017 48,288 Arizona St.\\n 6 286,417 47,736 Arkansas\\n 7 487,067 69,581 Arkansas St.\\n 6 136,200 22,700 Army West Point\\n 5 163,267 32,653 Auburn\\n 8 695,498 86,937 Ball St.\\n 5 38,946 7,789 Baylor\\n 6 275,029 45,838 Boise St.\\n 6 205,640 34,273 Boston College\\n 6 192,942 32,157 Bowling Green\\n 6 90,838 15,140 Buffalo\\n 6 104,957 17,493 BYU\\n 6 351,413 58,569 California\\n 6 279,769 46,628 Central Mich.\\n 6 104,447 17,408 Charlotte\\n 6 85,154 14,192 Cincinnati\\n 7 235,095 33,585 Clemson\\n 7 566,787 80,970 Colorado\\n 6 279,652 46,609 Colorado St.\\n 6 165,598 27,600 Duke\\n 6 179,369 29,895 East Carolina\\n 6 264,680 44,113 Eastern M\\nich.\\n 6 106,064 17,677 FIU\\n 7 117,526 16,789 Fla. Atlantic\\n 6 60,437 10,073 Florida\\n 5 439,229 87,846 Florida St.\\n 6 460,801 76,800 Fresno St.\\n 6 152,960 25,493 Ga. Southern\\n 5 104,095 20,819 Georgia\\n 6 556,476 92,746 Georgia St.\\n 6 90,617 15,103 Georgia Tech\\n 7 332,518 47,503 Hawaii\\n 7 170,299 24,328 Houston\\n 6 233,716 38,953 Idaho\\n 5 55,948 11,190 Illinois\\n 7 319,505 45,644 Indiana\\n 7 301,190 43,027 Iowa\\n 7 487,591 69,656 Iowa St.\\n 7 367,899 52,557 Kansas\\n 6 154,969 25,828 Kansas St.\\n 6 311,512 51,919 Kent St.\\n 6 65,387 10,898 Kentucky\\n 7 375,500 53,643 La.\\n-Monroe\\n 5 67,057 13,411 Louisiana\\n 6 121,346 20,224 Louisiana Tech\\n 5 102,059 20,412 Louisville\\n 6 324,391 54,065 LSU 7 708,618 101,231 School\\n G Attendance\\n Average\\n Marshall\\n 7 173,319 24,760 Maryland\\n 6 237,690 39,615 Massachuset\\nts 6 87,059 14,510 Memphis\\n 7 261,419 37,346 Miami (FL)\\n 6 351,434 58,572 Miami (OH)\\n 6 102,657 17,110 Michigan\\n 8 883,741 110,468 Michigan St.\\n 7 522,666 74,667 Middle Tenn.\\n 5 86,215 17,243 Minnesota\\n 7 306,697 43,814 Mississippi St.\\n 6 349,904 58,317 Missouri\\n 7 365,651 52,236 Navy\\n 6 189,425 31,571 Nebraska\\n 7 631,402 90,200 Nevada\\n 6 111,003 18,501 New Mexico\\n 7 141,938 20,277 New Mexico St.\\n 5 47,725 9,545 North Carolina\\n 6 301,500 50,250 North Carolina St.\\n 7 402,479 57,497 North Texas\\n 6 119,269 19,878 Northern Ill.\\n 5 55,095 11,019 Northwestern\\n 7 243,586 34,798 Notre Dame\\n 6 484,770 80,795 Ohio\\n 6 127,139 21,190 Ohio St.\\n 7 750,944 107,278 Oklahoma\\n 6 521,142 86,857 Oklahoma St.\\n 7 376,695 53,814 Old Dominion\\n 6 120,708 20,118 Ole Miss\\n 7 454,368 64,910 Oregon\\n 6 328,062 54,677 Oregon St.\\n 7 263,357 37,622 Penn St.\\n 7 701,800 100,257 Pittsburgh\\n 7 322,531 46,076 Purdue\\n 7 241,158 34,451 Rice\\n 6 128,551 21,425 Rutgers\\n 7 313,629 44,804 San Diego St.\\n 6 223,735 37,289 San Jose St.\\n 6 92,515 15,419 SMU\\n 6 142,272 23,712 South Ala.\\n 7 113,749 16,250 South Carolina\\n 7 538,441 76,920 South Fla.\\n 7 262,772 37,539 Southern California\\n 6 410,755 68,459 Southern Miss.\\n 6 171,525 28,588 Stanford\\n 6 264,853 44,142 Syracuse\\n 6 196,828 32,805 TCU\\n 7 316,179 45,168 Temple\\n 7 190,574 27,225 Tennessee\\n 7 706,776 100,968 Texas\\n 6 587,283 97,881 Texas A&M\\n 7 713,418 101,917 Texas St.\\n 6 108,717 18,120  School\\n G Attendance\\n Average\\n Texas Tech\\n 6 349,498 58,250 Toledo\\n 6 123,766 20,628 Troy\\n 6 135,203 22,534 Tulane\\n 6 136,310 22,718 Tulsa\\n 6 115,404 19,234 UCF\\n 6 214,814 35,802 UCLA\\n 6 404,751 67,459 UConn\\n 7 187,569 26,796 UNLV\\n 6 110,336 18,389 Utah\\n 6 279,038 46,506 Utah St.\\n 6 114,814 19,136 UTEP\\n 7 161,004 23,001 School\\n G Attendance\\n Average\\n UTSA\\n 6 138,226 23,038 Vanderbilt\\n 6 187,451 31,242 Virginia\\n 6 239,576 39,929 Virginia Tech\\n 6 378,259 63,043 Wake Forest\\n 7 185,192 26,456 Washington\\n 7 452,123 64,589 Washington St.\\n 7 221,722 31,675 West Virginia\\n 7 403,084 57,583 Western Ky.\\n 7 123,935 17,705 Western Mich.\\n 6 143,025 23,838 Wisconsin\\n 6 476,144 79,357 Wyoming\\n 7 148,860 21,266 201\\n6 NCAA DIVISION I FCS TEAM\\n-BY-TEAM \\nHOME \\nATTENDANCE\\n  School\\n G Attendance\\n Average\\n Alabama A&M\\n 4 29,135 7,284 Alabama St.\\n 5 38,674 7,735 Albany (NY)\\n 6 35,565 5,928 Alcorn\\n 5 71,716 14,343 Ark.\\n-Pine Bluff\\n 4 19,538 4,885 Austin Peay\\n 5 30,587 6,117 Bethune\\n-Cookman\\n 4 25,138 6,285 Brown\\n 5 22,095 4,419 Bryant\\n 5 19,136 3,827 Bucknell\\n 5 16,618 3,324 Butler\\n 5 20,532 4,106 Cal Poly\\n 6 45,423 7,571 Campbell\\n 6 33,138 5,523 Central Ark.\\n 6 46,998 7,833 Central Conn. St.\\n 5 14,726 2,945 Charleston So.\\n 5 13,560 2,712 Chattanooga\\n 7 62,204 8,886 Colgate\\n 4 24,318 6,080 Columbia\\n 5 26,062 5,212 Cornell\\n 5 37,227 7,445 Dartmouth\\n 5 28,190 5,638 Davidson\\n 5 17,643 3,529 Dayton\\n 6 17,495 2,916 Delaware\\n 5 82,390 16,478 Delaware St.\\n 5 9,873 1,975 Drake\\n 6 12,980 2,163 Duquesne\\n 6 9,325 1,554 Easte\\nrn Ill.\\n 5 29,067 5,813 Eastern Ky.\\n 5 40,400 8,080 Eastern Wash.\\n 8 67,477 8,435 Elon\\n 6 42,878 7,146 ETSU\\n 6 46,009 7,668 Florida A&M\\n 4 78,839 19,710 Fordham\\n 6 32,493 5,416 Furman\\n 5 28,855 5,771 Gardner\\n-Webb\\n 6 25,767 4,295 Georgetown\\n 6 12,029 2,005 Grambling\\n 2 32,669 16,335 School\\n G Attendance\\n Average\\n Hampton\\n 5 32,685 6,537 Harvard\\n 5 73,709 14,742 Holy Cross\\n 4 28,845 7,211 Houston Baptist\\n 5 16,379 3,276 Howard\\n 4 11,354 2,839 Idaho St.\\n 5 29,293 5,859 Illinois St.\\n 6 60,937 10,156 Indiana St.\\n 5 25,763 5,153 Jacks\\non St.\\n 5 98,298 19,660 Jacksonville\\n 5 9,247 1,849 Jacksonville St.\\n 7 123,030 17,576 James Madison\\n 8 158,754 19,844 Kennesaw St.\\n 6 46,608 7,768 Lafayette\\n 5 36,682 7,336 Lamar University\\n 6 44,574 7,429 Lehigh\\n 5 32,634 6,527 Liberty\\n 6 98,259 16,377 Maine\\n 5 39,686 7,937 Marist\\n 6 13,241 2,207 McNeese\\n 6 63,058 10,510 Mercer\\n 5 56,186 11,237 Mississippi Val.\\n 4 11,681 2,920 Missouri St.\\n 5 50,485 10,097 Monmouth\\n 3 9,517 3,172 Montana\\n 6 152,261 25,377 Montana St.\\n 6 107,442 17,907 Morehead St.\\n 6 34,415 5,736 Morgan St.\\n 5 22,067 4,413 Murray St.\\n 5 30,840 6,168 N.C. A&T\\n 5 72,360 14,472 N.C. Central\\n 5 41,211 8,242 New Hampshire\\n 6 57,782 9,630 Nicholls St.\\n 5 37,158 7,432 Norfolk St.\\n 5 48,717 9,743 North Dakota\\n 6 59,665 9,944 North Dakota St.\\n 9 167,002 18,556 Northern Ariz.\\n 5 39,549 7,910 Northern Colo.\\n 5 24,477 4,895  School\\n G Attendance\\n Average\\n Northwestern St.\\n 5 39,714 7,943 Penn\\n 5 27,948 5,590 Portland St.\\n 5 22,948 4,590 Prairie View\\n 4 48,777 12,194 Presbyterian\\n 4 13,194 3,299 Princeton\\n 5 44,951 8,990 Rhode Island\\n 5 19,839 3,968 Richmond\\n 7 55,481 7,926 Robert Morris\\n 5 10,055 2,011 Sacramento St.\\n 5 34,351 6,870 Sacred Heart\\n 5 11,876 2,375 Saint Francis (PA)\\n 4 6,468 1,617 Sam Houston St.\\n 6 47,638 7,940 Samford\\n 5 29,486 5,897 San Diego\\n 5 12,023 2,405 Savannah St.\\n 4 17,907 4,477 SFA 5 49,239 9,848 South Carolina St.\\n 4 40,593 10,148 South Dakota\\n 5 44,174 8,835 South Dakota St.\\n 7 96,268 13,753 Southeast Mo. St.\\n 5 26,813 5,363 Southeastern La.\\n 5 27,746 5,549 Southern Ill.\\n 6 47,511 7,919 School\\n G Attendance\\n Average\\n Southern U.\\n 4 54,711 13,678 Southern Utah\\n 5 41,276 8,255 Stetson\\n 6 20,629 3,438 Stony Brook\\n 6 41,719 6,953 Tennessee St.\\n 4 55,113 13,778 Tennessee Tech\\n 5 33,765 6,753 Texas Southern\\n 5 26,855 5,371 The Citadel\\n 6 70,363 11,727 Towson\\n 5 28,514 5,703 UC Davis\\n 5 31,931 6,386 UNI 5 60,613 12,123 UT Martin\\n 5 18,440 3,688 Valparaiso\\n 5 10,171 2,034 Villanova\\n 6 32,826 5,471 VMI\\n 4 24,765 6,191 Wagner\\n 6 14,514 2,419 Weber St.\\n 5 43,672 8,734 Western Caro.\\n 5 52,323 10,465 Western Ill.\\n 5 24,549 4,910 William & Mary\\n 5 50,838 10,168 Wofford\\n 6 40,732 6,789 Yale\\n 5 43,977 8,795 Youngstown St.\\n 8 99,508 12,439  201\\n6 NCAA DIVISION II TEAM\\n-BY-TEAM FOOTBALL ATTENDANCE\\n  School\\n G Attendance\\n Average\\n Adams St.\\n 5 4,492 898 Albany St. (GA)\\n 3 24,170 8,057 Alderson Broaddus\\n 4 5,391 1,348 American Int'l\\n 6 7,795 1,299 Angelo St.\\n 4 14,842 3,711 Ark.\\n-Monticello\\n 6 13,553 2,259 Arkansas Tech\\n 5 28,124 5,625 Ashland\\n 5 15,694 3,139 Assumption\\n 5 10,797 2,159 Augustana (SD)\\n 5 24,734 4,947 Azusa Pacific\\n 5 23,281 4,656 Bemidji St.\\n 6 16,438 2,740 Benedict\\n 5 32,451 6,490 Bentley\\n 6 10,425 1,738 Black Hills St.\\n 6 7,220 1,203 Bloomsburg\\n 5 14,741 2,948 Bowie St.\\n 5 9,869 1,974 Brevard\\n 6 7,353 1,226 California (PA)\\n 8 27,053 3,382 Carson\\n-Newman\\n 5 17,206 3,441 Catawba\\n 5 12,759 2,552 Central Mo.\\n 6 38,617 6,436 Central Okla.\\n 6 23,989 3,998 Central St. (OH)\\n 4 14,876 3,719 Central Wash.\\n 5 20,630 4,126 School\\n G Attendance\\n Average\\n Chadron St.\\n 6 14,840 2,473 Charleston (WV)\\n 5 7,062 1,412 Cheyney\\n 5 4,577 915 Chowan\\n 6 15,012 2,502 Clarion\\n 6 12,586 2,098 Clark Atlanta\\n 5 28,284 5,657 Colo. S\\nch. of Mines\\n 6 20,095 3,349 Colorado Mesa\\n 6 14,771 2,462 Colorado St.\\n-Pueblo\\n 6 34,728 5,788 Concord\\n 5 6,668 1,334 Concordia\\n-St. Paul\\n 5 10,315 2,063 Delta St.\\n 6 35,808 5,968 Dixie St.\\n 5 16,190 3,238 East Central\\n 6 17,987 2,998 East Stroudsburg\\n 5 8,085 1,617 Eastern N.M.\\n 6 12,740 2,123 Edinboro\\n 5 20,290 4,058 Elizabeth City St.\\n 3 16,600 5,533 Emporia St.\\n 6 34,243 5,707 Fairmont St.\\n 6 8,216 1,369 Fayetteville St.\\n 5 18,637 3,727 Ferris St.\\n 8 26,648 3,331 Findlay\\n 6 8,644 1,441 Florida Tech\\n 5 14,843 2,969 Fort Ha\\nys St.\\n 5 18,495 3,699 \""
      ]
     },
     "execution_count": 12,
     "metadata": {},
     "output_type": "execute_result"
    }
   ],
   "source": [
    "combined_pages = sp + ' ' + sp2 + ' ' + sp3\n",
    "combined_pages"
   ]
  },
  {
   "cell_type": "markdown",
   "metadata": {},
   "source": [
    "##### Test function to replace school name from text with school name from provided list"
   ]
  },
  {
   "cell_type": "code",
   "execution_count": 13,
   "metadata": {
    "collapsed": true
   },
   "outputs": [
    {
     "data": {
      "text/plain": [
       "\"2016 ncaa division i fbs team-by-team home attendance  school g attendance average air_force 6 177,519 29,587 akron 6 62,021 10,337 alabama 7 712,747 101,821 appalachian_st 6 156,916 26,153 arizona 7 338,017 48,288 arizona_st 6 286,417 47,736 arkansas 7 487,067 69,581 arkansas_st 6 136,200 22,700 army_west_point 5 163,267 32,653 auburn 8 695,498 86,937 ball_st 5 38,946 7,789 baylor 6 275,029 45,838 boise_st 6 205,640 34,273 boston_college 6 192,942 32,157 bowling_green 6 90,838 15,140 buffalo 6 104,957 17,493 byu 6 351,413 58,569 california 6 279,769 46,628 central_mich 6 104,447 17,408 charlotte 6 85,154 14,192 cincinnati 7 235,095 33,585 clemson 7 566,787 80,970 colorado 6 279,652 46,609 colorado_st 6 165,598 27,600 duke 6 179,369 29,895 east_carolina 6 264,680 44,113 eastern_mich 6 106,064 17,677 fiu 7 117,526 16,789 fla_atlantic 6 60,437 10,073 florida 5 439,229 87,846 florida_st 6 460,801 76,800 fresno_st 6 152,960 25,493 ga_southern 5 104,095 20,819 georgia 6 556,476 92,746 georgia_st 6 90,617 15,103 georgia_tech 7 332,518 47,503 hawaii 7 170,299 24,328 houston 6 233,716 38,953 idaho 5 55,948 11,190 illinois 7 319,505 45,644 indiana 7 301,190 43,027 iowa 7 487,591 69,656 iowa_st 7 367,899 52,557 kansas 6 154,969 25,828 kansas_st 6 311,512 51,919 kent_st 6 65,387 10,898 kentucky 7 375,500 53,643 la_monroe 5 67,057 13,411 louisiana 6 121,346 20,224 louisiana_tech 5 102,059 20,412 louisville 6 324,391 54,065 lsu 7 708,618 101,231 school g attendance average marshall 7 173,319 24,760 maryland 6 237,690 39,615 massachusetts 6 87,059 14,510 memphis 7 261,419 37,346 miami_fl 6 351,434 58,572 miami_oh 6 102,657 17,110 michigan 8 883,741 110,468 michigan_st 7 522,666 74,667 middle_tenn 5 86,215 17,243 minnesota 7 306,697 43,814 mississippi_st 6 349,904 58,317 missouri 7 365,651 52,236 navy 6 189,425 31,571 nebraska 7 631,402 90,200 nevada 6 111,003 18,501 new_mexico 7 141,938 20,277 new_mexico_st 5 47,725 9,545 north_carolina 6 301,500 50,250 north_carolina_st 7 402,479 57,497 north_texas 6 119,269 19,878 northern_ill 5 55,095 11,019 northwestern 7 243,586 34,798 notre_dame 6 484,770 80,795 ohio 6 127,139 21,190 ohio_st. 7 750,944 107,278 oklahoma 6 521,142 86,857 oklahoma_st 7 376,695 53,814 old_dominion 6 120,708 20,118 ole_miss 7 454,368 64,910 oregon 6 328,062 54,677 oregon_st 7 263,357 37,622 penn_st 7 701,800 100,257 pittsburgh 7 322,531 46,076 purdue 7 241,158 34,451 rice 6 128,551 21,425 rutgers 7 313,629 44,804 san_diego_st 6 223,735 37,289 san_jose_st 6 92,515 15,419 smu 6 142,272 23,712 south_ala 7 113,749 16,250 south_carolina 7 538,441 76,920 south_fla 7 262,772 37,539 southern_california 6 410,755 68,459 southern_miss 6 171,525 28,588 stanford 6 264,853 44,142 syracuse 6 196,828 32,805 tcu 7 316,179 45,168 temple 7 190,574 27,225 tennessee 7 706,776 100,968 texas 6 587,283 97,881 texas_a_m 7 713,418 101,917 texas_st 6 108,717 18,120  school g attendance average texas_tech 6 349,498 58,250 toledo 6 123,766 20,628 troy 6 135,203 22,534 tulane 6 136,310 22,718 tulsa 6 115,404 19,234 ucf 6 214,814 35,802 ucla 6 404,751 67,459 uconn 7 187,569 26,796 unlv 6 110,336 18,389 utah 6 279,038 46,506 utah_st 6 114,814 19,136 utep 7 161,004 23,001 school g attendance average utsa 6 138,226 23,038 vanderbilt 6 187,451 31,242 virginia 6 239,576 39,929 virginia_tech 6 378,259 63,043 wake_forest 7 185,192 26,456 washington 7 452,123 64,589 washington_st 7 221,722 31,675 west_virginia 7 403,084 57,583 western_ky 7 123,935 17,705 western_mich 6 143,025 23,838 wisconsin 6 476,144 79,357 wyoming 7 148,860 21,266 2016 ncaa division i fcs team-by-team home attendance  school g attendance average alabama_a_m 4 29,135 7,284 alabama_st 5 38,674 7,735 albany_ny 6 35,565 5,928 alcorn_st 5 71,716 14,343 ark_pine_bluff 4 19,538 4,885 austin_peay 5 30,587 6,117 bethune_cookman 4 25,138 6,285 brown 5 22,095 4,419 bryant 5 19,136 3,827 bucknell 5 16,618 3,324 butler 5 20,532 4,106 cal_poly 6 45,423 7,571 campbell 6 33,138 5,523 central_ark. 6 46,998 7,833 central_conn_st 5 14,726 2,945 charleston_so 5 13,560 2,712 chattanooga 7 62,204 8,886 colgate 4 24,318 6,080 columbia 5 26,062 5,212 cornell 5 37,227 7,445 dartmouth 5 28,190 5,638 davidson 5 17,643 3,529 dayton 6 17,495 2,916 delaware 5 82,390 16,478 delaware_st 5 9,873 1,975 drake 6 12,980 2,163 duquesne 6 9,325 1,554 eastern_ill 5 29,067 5,813 eastern_ky 5 40,400 8,080 eastern_wash 8 67,477 8,435 elon 6 42,878 7,146 etsu 6 46,009 7,668 florida_a_m 4 78,839 19,710 fordham 6 32,493 5,416 furman 5 28,855 5,771 gardner_webb 6 25,767 4,295 georgetown 6 12,029 2,005 grambling 2 32,669 16,335 school g attendance average hampton 5 32,685 6,537 harvard 5 73,709 14,742 holy_cross 4 28,845 7,211 houston_baptist 5 16,379 3,276 howard 4 11,354 2,839 idaho_st 5 29,293 5,859 illinois_st 6 60,937 10,156 indiana_st 5 25,763 5,153 jackson_st 5 98,298 19,660 jacksonville 5 9,247 1,849 jacksonville_st 7 123,030 17,576 james_madison 8 158,754 19,844 kennesaw_st 6 46,608 7,768 lafayette 5 36,682 7,336 lamar_university 6 44,574 7,429 lehigh 5 32,634 6,527 liberty 6 98,259 16,377 maine 5 39,686 7,937 marist 6 13,241 2,207 mcneese 6 63,058 10,510 mercer 5 56,186 11,237 mississippi_val 4 11,681 2,920 missouri_st 5 50,485 10,097 monmouth 3 9,517 3,172 montana 6 152,261 25,377 montana_st 6 107,442 17,907 morehead_st 6 34,415 5,736 morgan_st 5 22,067 4,413 murray_st 5 30,840 6,168 n_c_a_t 5 72,360 14,472 n_c_central 5 41,211 8,242 new_hampshire 6 57,782 9,630 nicholls_st 5 37,158 7,432 norfolk_st 5 48,717 9,743 north_dakota 6 59,665 9,944 north_dakota_st 9 167,002 18,556 northern_ariz 5 39,549 7,910 northern_colo 5 24,477 4,895  school g attendance average northwestern_st 5 39,714 7,943 penn 5 27,948 5,590 portland_st 5 22,948 4,590 prairie_view 4 48,777 12,194 presbyterian 4 13,194 3,299 princeton 5 44,951 8,990 rhode_island 5 19,839 3,968 richmond 7 55,481 7,926 robert_morris 5 10,055 2,011 sacramento_st 5 34,351 6,870 sacred_heart 5 11,876 2,375 saint_francis_pa 4 6,468 1,617 sam_houston_st 6 47,638 7,940 samford 5 29,486 5,897 san_diego 5 12,023 2,405 savannah_st 4 17,907 4,477 sfa 5 49,239 9,848 south_carolina_st 4 40,593 10,148 south_dakota 5 44,174 8,835 south_dakota_st 7 96,268 13,753 southeast_mo_st 5 26,813 5,363 southeastern_la 5 27,746 5,549 southern_ill 6 47,511 7,919 school g attendance average southern_u 4 54,711 13,678 southern_utah 5 41,276 8,255 stetson 6 20,629 3,438 stony_brook 6 41,719 6,953 tennessee_st 4 55,113 13,778 tennessee_tech 5 33,765 6,753 texas_southern 5 26,855 5,371 the_citadel 6 70,363 11,727 towson 5 28,514 5,703 uc_davis 5 31,931 6,386 uni 5 60,613 12,123 ut_martin 5 18,440 3,688 valparaiso 5 10,171 2,034 villanova 6 32,826 5,471 vmi 4 24,765 6,191 wagner 6 14,514 2,419 weber_st 5 43,672 8,734 western_caro 5 52,323 10,465 western_ill 5 24,549 4,910 william_mary 5 50,838 10,168 wofford 6 40,732 6,789 yale 5 43,977 8,795 youngstown_st 8 99,508 12,439  2016 ncaa division ii team-by-team football attendance  school g attendance average adams st. 5 4,492 898 albany st. (ga) 3 24,170 8,057 alderson broaddus 4 5,391 1,348 american int'l 6 7,795 1,299 angelo st. 4 14,842 3,711 ark.-monticello 6 13,553 2,259 arkansas tech 5 28,124 5,625 ashland 5 15,694 3,139 assumption 5 10,797 2,159 augustana (sd) 5 24,734 4,947 azusa pacific 5 23,281 4,656 bemidji st. 6 16,438 2,740 benedict 5 32,451 6,490 bentley 6 10,425 1,738 black hills st. 6 7,220 1,203 bloomsburg 5 14,741 2,948 bowie st. 5 9,869 1,974 brevard 6 7,353 1,226 california (pa) 8 27,053 3,382 carson-newman 5 17,206 3,441 catawba 5 12,759 2,552 central mo. 6 38,617 6,436 central okla. 6 23,989 3,998 central st. (oh) 4 14,876 3,719 central wash. 5 20,630 4,126 school g attendance average chadron st. 6 14,840 2,473 charleston (wv) 5 7,062 1,412 cheyney 5 4,577 915 chowan 6 15,012 2,502 clarion 6 12,586 2,098 clark atlanta 5 28,284 5,657 colo. sch. of mines 6 20,095 3,349 colorado mesa 6 14,771 2,462 colorado_st-pueblo 6 34,728 5,788 concord 5 6,668 1,334 concordia-st. paul 5 10,315 2,063 delta st. 6 35,808 5,968 dixie st. 5 16,190 3,238 east central 6 17,987 2,998 east stroudsburg 5 8,085 1,617 eastern n.m. 6 12,740 2,123 edinboro 5 20,290 4,058 elizabeth city st. 3 16,600 5,533 emporia st. 6 34,243 5,707 fairmont st. 6 8,216 1,369 fayetteville st. 5 18,637 3,727 ferris st. 8 26,648 3,331 findlay 6 8,644 1,441 florida tech 5 14,843 2,969 fort hays st. 5 18,495 3,699 \""
      ]
     },
     "execution_count": 13,
     "metadata": {},
     "output_type": "execute_result"
    }
   ],
   "source": [
    "cleaned_string = combined_pages.replace('\\n','').lower()\n",
    "def replace_text(text, list_of_names):\n",
    "    for name in list_of_names:\n",
    "        if name[0].lower() in text:\n",
    "            text = text.replace(name[0].lower(), name[1].lower())\n",
    "    return text\n",
    "\n",
    "pages = replace_text(cleaned_string, all_teams_sorted)\n",
    "pages"
   ]
  },
  {
   "cell_type": "markdown",
   "metadata": {},
   "source": [
    "##### Workflow for cleaning text from pdf"
   ]
  },
  {
   "cell_type": "code",
   "execution_count": 14,
   "metadata": {
    "collapsed": true
   },
   "outputs": [
    {
     "name": "stdout",
     "output_type": "stream",
     "text": [
      "air_force 6 177,519 29,587 akron 6 62,021 10,337 alabama 7 712,747 101,821 appalachian_st 6 156,916 26,153 arizona 7 338,017 48,288 arizona_st 6 286,417 47,736 arkansas 7 487,067 69,581 arkansas_st 6 136,200 22,700 army_west_point 5 163,267 32,653 auburn 8 695,498 86,937 ball_st 5 38,946 7,789 baylor 6 275,029 45,838 boise_st 6 205,640 34,273 boston_college 6 192,942 32,157 bowling_green 6 90,838 15,140 buffalo 6 104,957 17,493 byu 6 351,413 58,569 california 6 279,769 46,628 central_mich 6 104,447 17,408 charlotte 6 85,154 14,192 cincinnati 7 235,095 33,585 clemson 7 566,787 80,970 colorado 6 279,652 46,609 colorado_st 6 165,598 27,600 duke 6 179,369 29,895 east_carolina 6 264,680 44,113 eastern_mich 6 106,064 17,677 fiu 7 117,526 16,789 fla_atlantic 6 60,437 10,073 florida 5 439,229 87,846 florida_st 6 460,801 76,800 fresno_st 6 152,960 25,493 ga_southern 5 104,095 20,819 georgia 6 556,476 92,746 georgia_st 6 90,617 15,103 georgia_tech 7 332,518 47,503 hawaii 7 170,299 24,328 houston 6 233,716 38,953 idaho 5 55,948 11,190 illinois 7 319,505 45,644 indiana 7 301,190 43,027 iowa 7 487,591 69,656 iowa_st 7 367,899 52,557 kansas 6 154,969 25,828 kansas_st 6 311,512 51,919 kent_st 6 65,387 10,898 kentucky 7 375,500 53,643 la_monroe 5 67,057 13,411 louisiana 6 121,346 20,224 louisiana_tech 5 102,059 20,412 louisville 6 324,391 54,065 lsu 7 708,618 101,231 marshall 7 173,319 24,760 maryland 6 237,690 39,615 massachusetts 6 87,059 14,510 memphis 7 261,419 37,346 miami_fl 6 351,434 58,572 miami_oh 6 102,657 17,110 michigan 8 883,741 110,468 michigan_st 7 522,666 74,667 middle_tenn 5 86,215 17,243 minnesota 7 306,697 43,814 mississippi_st 6 349,904 58,317 missouri 7 365,651 52,236 navy 6 189,425 31,571 nebraska 7 631,402 90,200 nevada 6 111,003 18,501 new_mexico 7 141,938 20,277 new_mexico_st 5 47,725 9,545 north_carolina 6 301,500 50,250 north_carolina_st 7 402,479 57,497 north_texas 6 119,269 19,878 northern_ill 5 55,095 11,019 northwestern 7 243,586 34,798 notre_dame 6 484,770 80,795 ohio 6 127,139 21,190 ohio_st. 7 750,944 107,278 oklahoma 6 521,142 86,857 oklahoma_st 7 376,695 53,814 old_dominion 6 120,708 20,118 ole_miss 7 454,368 64,910 oregon 6 328,062 54,677 oregon_st 7 263,357 37,622 penn_st 7 701,800 100,257 pittsburgh 7 322,531 46,076 purdue 7 241,158 34,451 rice 6 128,551 21,425 rutgers 7 313,629 44,804 san_diego_st 6 223,735 37,289 san_jose_st 6 92,515 15,419 smu 6 142,272 23,712 south_ala 7 113,749 16,250 south_carolina 7 538,441 76,920 south_fla 7 262,772 37,539 southern_california 6 410,755 68,459 southern_miss 6 171,525 28,588 stanford 6 264,853 44,142 syracuse 6 196,828 32,805 tcu 7 316,179 45,168 temple 7 190,574 27,225 tennessee 7 706,776 100,968 texas 6 587,283 97,881 texas_a_m 7 713,418 101,917 texas_st 6 108,717 18,120 texas_tech 6 349,498 58,250 toledo 6 123,766 20,628 troy 6 135,203 22,534 tulane 6 136,310 22,718 tulsa 6 115,404 19,234 ucf 6 214,814 35,802 ucla 6 404,751 67,459 uconn 7 187,569 26,796 unlv 6 110,336 18,389 utah 6 279,038 46,506 utah_st 6 114,814 19,136 utep 7 161,004 23,001 utsa 6 138,226 23,038 vanderbilt 6 187,451 31,242 virginia 6 239,576 39,929 virginia_tech 6 378,259 63,043 wake_forest 7 185,192 26,456 washington 7 452,123 64,589 washington_st 7 221,722 31,675 west_virginia 7 403,084 57,583 western_ky 7 123,935 17,705 western_mich 6 143,025 23,838 wisconsin 6 476,144 79,357 wyoming 7 148,860 21,266 alabama_a_m 4 29,135 7,284 alabama_st 5 38,674 7,735 albany_ny 6 35,565 5,928 alcorn_st 5 71,716 14,343 ark_pine_bluff 4 19,538 4,885 austin_peay 5 30,587 6,117 bethune_cookman 4 25,138 6,285 brown 5 22,095 4,419 bryant 5 19,136 3,827 bucknell 5 16,618 3,324 butler 5 20,532 4,106 cal_poly 6 45,423 7,571 campbell 6 33,138 5,523 central_ark. 6 46,998 7,833 central_conn_st 5 14,726 2,945 charleston_so 5 13,560 2,712 chattanooga 7 62,204 8,886 colgate 4 24,318 6,080 columbia 5 26,062 5,212 cornell 5 37,227 7,445 dartmouth 5 28,190 5,638 davidson 5 17,643 3,529 dayton 6 17,495 2,916 delaware 5 82,390 16,478 delaware_st 5 9,873 1,975 drake 6 12,980 2,163 duquesne 6 9,325 1,554 eastern_ill 5 29,067 5,813 eastern_ky 5 40,400 8,080 eastern_wash 8 67,477 8,435 elon 6 42,878 7,146 etsu 6 46,009 7,668 florida_a_m 4 78,839 19,710 fordham 6 32,493 5,416 furman 5 28,855 5,771 gardner_webb 6 25,767 4,295 georgetown 6 12,029 2,005 grambling 2 32,669 16,335 hampton 5 32,685 6,537 harvard 5 73,709 14,742 holy_cross 4 28,845 7,211 houston_baptist 5 16,379 3,276 howard 4 11,354 2,839 idaho_st 5 29,293 5,859 illinois_st 6 60,937 10,156 indiana_st 5 25,763 5,153 jackson_st 5 98,298 19,660 jacksonville 5 9,247 1,849 jacksonville_st 7 123,030 17,576 james_madison 8 158,754 19,844 kennesaw_st 6 46,608 7,768 lafayette 5 36,682 7,336 lamar_university 6 44,574 7,429 lehigh 5 32,634 6,527 liberty 6 98,259 16,377 maine 5 39,686 7,937 marist 6 13,241 2,207 mcneese 6 63,058 10,510 mercer 5 56,186 11,237 mississippi_val 4 11,681 2,920 missouri_st 5 50,485 10,097 monmouth 3 9,517 3,172 montana 6 152,261 25,377 montana_st 6 107,442 17,907 morehead_st 6 34,415 5,736 morgan_st 5 22,067 4,413 murray_st 5 30,840 6,168 n_c_a_t 5 72,360 14,472 n_c_central 5 41,211 8,242 new_hampshire 6 57,782 9,630 nicholls_st 5 37,158 7,432 norfolk_st 5 48,717 9,743 north_dakota 6 59,665 9,944 north_dakota_st 9 167,002 18,556 northern_ariz 5 39,549 7,910 northern_colo 5 24,477 4,895 northwestern_st 5 39,714 7,943 penn 5 27,948 5,590 portland_st 5 22,948 4,590 prairie_view 4 48,777 12,194 presbyterian 4 13,194 3,299 princeton 5 44,951 8,990 rhode_island 5 19,839 3,968 richmond 7 55,481 7,926 robert_morris 5 10,055 2,011 sacramento_st 5 34,351 6,870 sacred_heart 5 11,876 2,375 saint_francis_pa 4 6,468 1,617 sam_houston_st 6 47,638 7,940 samford 5 29,486 5,897 san_diego 5 12,023 2,405 savannah_st 4 17,907 4,477 sfa 5 49,239 9,848 south_carolina_st 4 40,593 10,148 south_dakota 5 44,174 8,835 south_dakota_st 7 96,268 13,753 southeast_mo_st 5 26,813 5,363 southeastern_la 5 27,746 5,549 southern_ill 6 47,511 7,919 southern_u 4 54,711 13,678 southern_utah 5 41,276 8,255 stetson 6 20,629 3,438 stony_brook 6 41,719 6,953 tennessee_st 4 55,113 13,778 tennessee_tech 5 33,765 6,753 texas_southern 5 26,855 5,371 the_citadel 6 70,363 11,727 towson 5 28,514 5,703 uc_davis 5 31,931 6,386 uni 5 60,613 12,123 ut_martin 5 18,440 3,688 valparaiso 5 10,171 2,034 villanova 6 32,826 5,471 vmi 4 24,765 6,191 wagner 6 14,514 2,419 weber_st 5 43,672 8,734 western_caro 5 52,323 10,465 western_ill 5 24,549 4,910 william_mary 5 50,838 10,168 wofford 6 40,732 6,789 yale 5 43,977 8,795 youngstown_st 8 99,508 12,439\n"
     ]
    }
   ],
   "source": [
    "left_text = pages.partition(\"  2016 ncaa division ii team-by-team football\")[0]\n",
    "left_text2 = re.sub('2016 ncaa division i fbs team-by-team home attendance  ', '', left_text)\n",
    "left_text3 = re.sub('2016 ncaa division i fcs team-by-team home attendance  ', '', left_text2)\n",
    "left_text4 = re.sub('  ', ' ', left_text3)\n",
    "left_text5 = re.sub('school g attendance average ', '', left_text4)\n",
    "print(left_text5)"
   ]
  },
  {
   "cell_type": "code",
   "execution_count": 15,
   "metadata": {
    "collapsed": true
   },
   "outputs": [
    {
     "name": "stdout",
     "output_type": "stream",
     "text": [
      "air_force 6 177,519 29,587 akron 6 62,021 10,337 alabama 7 712,747 101,821 appalachian_st 6 156,916 26,153 arizona 7 338,017 48,288 arizona_st 6 286,417 47,736 arkansas 7 487,067 69,581 arkansas_st 6 136,200 22,700 army_west_point 5 163,267 32,653 auburn 8 695,498 86,937 ball_st 5 38,946 7,789 baylor 6 275,029 45,838 boise_st 6 205,640 34,273 boston_college 6 192,942 32,157 bowling_green 6 90,838 15,140 buffalo 6 104,957 17,493 byu 6 351,413 58,569 california 6 279,769 46,628 central_mich 6 104,447 17,408 charlotte 6 85,154 14,192 cincinnati 7 235,095 33,585 clemson 7 566,787 80,970 colorado 6 279,652 46,609 colorado_st 6 165,598 27,600 duke 6 179,369 29,895 east_carolina 6 264,680 44,113 eastern_mich 6 106,064 17,677 fiu 7 117,526 16,789 fla_atlantic 6 60,437 10,073 florida 5 439,229 87,846 florida_st 6 460,801 76,800 fresno_st 6 152,960 25,493 ga_southern 5 104,095 20,819 georgia 6 556,476 92,746 georgia_st 6 90,617 15,103 georgia_tech 7 332,518 47,503 hawaii 7 170,299 24,328 houston 6 233,716 38,953 idaho 5 55,948 11,190 illinois 7 319,505 45,644 indiana 7 301,190 43,027 iowa 7 487,591 69,656 iowa_st 7 367,899 52,557 kansas 6 154,969 25,828 kansas_st 6 311,512 51,919 kent_st 6 65,387 10,898 kentucky 7 375,500 53,643 la_monroe 5 67,057 13,411 louisiana 6 121,346 20,224 louisiana_tech 5 102,059 20,412 louisville 6 324,391 54,065 lsu 7 708,618 101,231 marshall 7 173,319 24,760 maryland 6 237,690 39,615 massachusetts 6 87,059 14,510 memphis 7 261,419 37,346 miami_fl 6 351,434 58,572 miami_oh 6 102,657 17,110 michigan 8 883,741 110,468 michigan_st 7 522,666 74,667 middle_tenn 5 86,215 17,243 minnesota 7 306,697 43,814 mississippi_st 6 349,904 58,317 missouri 7 365,651 52,236 navy 6 189,425 31,571 nebraska 7 631,402 90,200 nevada 6 111,003 18,501 new_mexico 7 141,938 20,277 new_mexico_st 5 47,725 9,545 north_carolina 6 301,500 50,250 north_carolina_st 7 402,479 57,497 north_texas 6 119,269 19,878 northern_ill 5 55,095 11,019 northwestern 7 243,586 34,798 notre_dame 6 484,770 80,795 ohio 6 127,139 21,190 ohio_st. 7 750,944 107,278 oklahoma 6 521,142 86,857 oklahoma_st 7 376,695 53,814 old_dominion 6 120,708 20,118 ole_miss 7 454,368 64,910 oregon 6 328,062 54,677 oregon_st 7 263,357 37,622 penn_st 7 701,800 100,257 pittsburgh 7 322,531 46,076 purdue 7 241,158 34,451 rice 6 128,551 21,425 rutgers 7 313,629 44,804 san_diego_st 6 223,735 37,289 san_jose_st 6 92,515 15,419 smu 6 142,272 23,712 south_ala 7 113,749 16,250 south_carolina 7 538,441 76,920 south_fla 7 262,772 37,539 southern_california 6 410,755 68,459 southern_miss 6 171,525 28,588 stanford 6 264,853 44,142 syracuse 6 196,828 32,805 tcu 7 316,179 45,168 temple 7 190,574 27,225 tennessee 7 706,776 100,968 texas 6 587,283 97,881 texas_a_m 7 713,418 101,917 texas_st 6 108,717 18,120 texas_tech 6 349,498 58,250 toledo 6 123,766 20,628 troy 6 135,203 22,534 tulane 6 136,310 22,718 tulsa 6 115,404 19,234 ucf 6 214,814 35,802 ucla 6 404,751 67,459 uconn 7 187,569 26,796 unlv 6 110,336 18,389 utah 6 279,038 46,506 utah_st 6 114,814 19,136 utep 7 161,004 23,001 utsa 6 138,226 23,038 vanderbilt 6 187,451 31,242 virginia 6 239,576 39,929 virginia_tech 6 378,259 63,043 wake_forest 7 185,192 26,456 washington 7 452,123 64,589 washington_st 7 221,722 31,675 west_virginia 7 403,084 57,583 western_ky 7 123,935 17,705 western_mich 6 143,025 23,838 wisconsin 6 476,144 79,357 wyoming 7 148,860 21,266 alabama_a_m 4 29,135 7,284 alabama_st 5 38,674 7,735 albany_ny 6 35,565 5,928 alcorn_st 5 71,716 14,343 ark_pine_bluff 4 19,538 4,885 austin_peay 5 30,587 6,117 bethune_cookman 4 25,138 6,285 brown 5 22,095 4,419 bryant 5 19,136 3,827 bucknell 5 16,618 3,324 butler 5 20,532 4,106 cal_poly 6 45,423 7,571 campbell 6 33,138 5,523 central_ark. 6 46,998 7,833 central_conn_st 5 14,726 2,945 charleston_so 5 13,560 2,712 chattanooga 7 62,204 8,886 colgate 4 24,318 6,080 columbia 5 26,062 5,212 cornell 5 37,227 7,445 dartmouth 5 28,190 5,638 davidson 5 17,643 3,529 dayton 6 17,495 2,916 delaware 5 82,390 16,478 delaware_st 5 9,873 1,975 drake 6 12,980 2,163 duquesne 6 9,325 1,554 eastern_ill 5 29,067 5,813 eastern_ky 5 40,400 8,080 eastern_wash 8 67,477 8,435 elon 6 42,878 7,146 etsu 6 46,009 7,668 florida_a_m 4 78,839 19,710 fordham 6 32,493 5,416 furman 5 28,855 5,771 gardner_webb 6 25,767 4,295 georgetown 6 12,029 2,005 grambling 2 32,669 16,335 hampton 5 32,685 6,537 harvard 5 73,709 14,742 holy_cross 4 28,845 7,211 houston_baptist 5 16,379 3,276 howard 4 11,354 2,839 idaho_st 5 29,293 5,859 illinois_st 6 60,937 10,156 indiana_st 5 25,763 5,153 jackson_st 5 98,298 19,660 jacksonville 5 9,247 1,849 jacksonville_st 7 123,030 17,576 james_madison 8 158,754 19,844 kennesaw_st 6 46,608 7,768 lafayette 5 36,682 7,336 lamar_university 6 44,574 7,429 lehigh 5 32,634 6,527 liberty 6 98,259 16,377 maine 5 39,686 7,937 marist 6 13,241 2,207 mcneese 6 63,058 10,510 mercer 5 56,186 11,237 mississippi_val 4 11,681 2,920 missouri_st 5 50,485 10,097 monmouth 3 9,517 3,172 montana 6 152,261 25,377 montana_st 6 107,442 17,907 morehead_st 6 34,415 5,736 morgan_st 5 22,067 4,413 murray_st 5 30,840 6,168 n_c_a_t 5 72,360 14,472 n_c_central 5 41,211 8,242 new_hampshire 6 57,782 9,630 nicholls_st 5 37,158 7,432 norfolk_st 5 48,717 9,743 north_dakota 6 59,665 9,944 north_dakota_st 9 167,002 18,556 northern_ariz 5 39,549 7,910 northern_colo 5 24,477 4,895 northwestern_st 5 39,714 7,943 penn 5 27,948 5,590 portland_st 5 22,948 4,590 prairie_view 4 48,777 12,194 presbyterian 4 13,194 3,299 princeton 5 44,951 8,990 rhode_island 5 19,839 3,968 richmond 7 55,481 7,926 robert_morris 5 10,055 2,011 sacramento_st 5 34,351 6,870 sacred_heart 5 11,876 2,375 saint_francis_pa 4 6,468 1,617 sam_houston_st 6 47,638 7,940 samford 5 29,486 5,897 san_diego 5 12,023 2,405 savannah_st 4 17,907 4,477 sfa 5 49,239 9,848 south_carolina_st 4 40,593 10,148 south_dakota 5 44,174 8,835 south_dakota_st 7 96,268 13,753 southeast_mo_st 5 26,813 5,363 southeastern_la 5 27,746 5,549 southern_ill 6 47,511 7,919 southern_u 4 54,711 13,678 southern_utah 5 41,276 8,255 stetson 6 20,629 3,438 stony_brook 6 41,719 6,953 tennessee_st 4 55,113 13,778 tennessee_tech 5 33,765 6,753 texas_southern 5 26,855 5,371 the_citadel 6 70,363 11,727 towson 5 28,514 5,703 uc_davis 5 31,931 6,386 uni 5 60,613 12,123 ut_martin 5 18,440 3,688 valparaiso 5 10,171 2,034 villanova 6 32,826 5,471 vmi 4 24,765 6,191 wagner 6 14,514 2,419 weber_st 5 43,672 8,734 western_caro 5 52,323 10,465 western_ill 5 24,549 4,910 william_mary 5 50,838 10,168 wofford 6 40,732 6,789 yale 5 43,977 8,795 youngstown_st 8 99,508 12,439\n"
     ]
    }
   ],
   "source": [
    "\n",
    "left_text2 = re.sub('2016 ncaa division i fbs team-by-team home attendance  ', '', left_text)\n",
    "left_text3 = re.sub('2016 ncaa division i fcs team-by-team home attendance  ', '', left_text2)\n",
    "left_text4 = re.sub('  ', ' ', left_text3)\n",
    "left_text5 = re.sub('school g attendance average ', '', left_text4)\n",
    "print(left_text5)\n"
   ]
  },
  {
   "cell_type": "code",
   "execution_count": 16,
   "metadata": {
    "collapsed": true
   },
   "outputs": [
    {
     "data": {
      "text/plain": [
       "array([['air_force', '6', '177,519', '29,587'],\n",
       "       ['akron', '6', '62,021', '10,337'],\n",
       "       ['alabama', '7', '712,747', '101,821'],\n",
       "       ['appalachian_st', '6', '156,916', '26,153'],\n",
       "       ['arizona', '7', '338,017', '48,288'],\n",
       "       ['arizona_st', '6', '286,417', '47,736'],\n",
       "       ['arkansas', '7', '487,067', '69,581'],\n",
       "       ['arkansas_st', '6', '136,200', '22,700'],\n",
       "       ['army_west_point', '5', '163,267', '32,653'],\n",
       "       ['auburn', '8', '695,498', '86,937'],\n",
       "       ['ball_st', '5', '38,946', '7,789'],\n",
       "       ['baylor', '6', '275,029', '45,838'],\n",
       "       ['boise_st', '6', '205,640', '34,273'],\n",
       "       ['boston_college', '6', '192,942', '32,157'],\n",
       "       ['bowling_green', '6', '90,838', '15,140'],\n",
       "       ['buffalo', '6', '104,957', '17,493'],\n",
       "       ['byu', '6', '351,413', '58,569'],\n",
       "       ['california', '6', '279,769', '46,628'],\n",
       "       ['central_mich', '6', '104,447', '17,408'],\n",
       "       ['charlotte', '6', '85,154', '14,192'],\n",
       "       ['cincinnati', '7', '235,095', '33,585'],\n",
       "       ['clemson', '7', '566,787', '80,970'],\n",
       "       ['colorado', '6', '279,652', '46,609'],\n",
       "       ['colorado_st', '6', '165,598', '27,600'],\n",
       "       ['duke', '6', '179,369', '29,895'],\n",
       "       ['east_carolina', '6', '264,680', '44,113'],\n",
       "       ['eastern_mich', '6', '106,064', '17,677'],\n",
       "       ['fiu', '7', '117,526', '16,789'],\n",
       "       ['fla_atlantic', '6', '60,437', '10,073'],\n",
       "       ['florida', '5', '439,229', '87,846'],\n",
       "       ['florida_st', '6', '460,801', '76,800'],\n",
       "       ['fresno_st', '6', '152,960', '25,493'],\n",
       "       ['ga_southern', '5', '104,095', '20,819'],\n",
       "       ['georgia', '6', '556,476', '92,746'],\n",
       "       ['georgia_st', '6', '90,617', '15,103'],\n",
       "       ['georgia_tech', '7', '332,518', '47,503'],\n",
       "       ['hawaii', '7', '170,299', '24,328'],\n",
       "       ['houston', '6', '233,716', '38,953'],\n",
       "       ['idaho', '5', '55,948', '11,190'],\n",
       "       ['illinois', '7', '319,505', '45,644'],\n",
       "       ['indiana', '7', '301,190', '43,027'],\n",
       "       ['iowa', '7', '487,591', '69,656'],\n",
       "       ['iowa_st', '7', '367,899', '52,557'],\n",
       "       ['kansas', '6', '154,969', '25,828'],\n",
       "       ['kansas_st', '6', '311,512', '51,919'],\n",
       "       ['kent_st', '6', '65,387', '10,898'],\n",
       "       ['kentucky', '7', '375,500', '53,643'],\n",
       "       ['la_monroe', '5', '67,057', '13,411'],\n",
       "       ['louisiana', '6', '121,346', '20,224'],\n",
       "       ['louisiana_tech', '5', '102,059', '20,412'],\n",
       "       ['louisville', '6', '324,391', '54,065'],\n",
       "       ['lsu', '7', '708,618', '101,231'],\n",
       "       ['marshall', '7', '173,319', '24,760'],\n",
       "       ['maryland', '6', '237,690', '39,615'],\n",
       "       ['massachusetts', '6', '87,059', '14,510'],\n",
       "       ['memphis', '7', '261,419', '37,346'],\n",
       "       ['miami_fl', '6', '351,434', '58,572'],\n",
       "       ['miami_oh', '6', '102,657', '17,110'],\n",
       "       ['michigan', '8', '883,741', '110,468'],\n",
       "       ['michigan_st', '7', '522,666', '74,667'],\n",
       "       ['middle_tenn', '5', '86,215', '17,243'],\n",
       "       ['minnesota', '7', '306,697', '43,814'],\n",
       "       ['mississippi_st', '6', '349,904', '58,317'],\n",
       "       ['missouri', '7', '365,651', '52,236'],\n",
       "       ['navy', '6', '189,425', '31,571'],\n",
       "       ['nebraska', '7', '631,402', '90,200'],\n",
       "       ['nevada', '6', '111,003', '18,501'],\n",
       "       ['new_mexico', '7', '141,938', '20,277'],\n",
       "       ['new_mexico_st', '5', '47,725', '9,545'],\n",
       "       ['north_carolina', '6', '301,500', '50,250'],\n",
       "       ['north_carolina_st', '7', '402,479', '57,497'],\n",
       "       ['north_texas', '6', '119,269', '19,878'],\n",
       "       ['northern_ill', '5', '55,095', '11,019'],\n",
       "       ['northwestern', '7', '243,586', '34,798'],\n",
       "       ['notre_dame', '6', '484,770', '80,795'],\n",
       "       ['ohio', '6', '127,139', '21,190'],\n",
       "       ['ohio_st.', '7', '750,944', '107,278'],\n",
       "       ['oklahoma', '6', '521,142', '86,857'],\n",
       "       ['oklahoma_st', '7', '376,695', '53,814'],\n",
       "       ['old_dominion', '6', '120,708', '20,118'],\n",
       "       ['ole_miss', '7', '454,368', '64,910'],\n",
       "       ['oregon', '6', '328,062', '54,677'],\n",
       "       ['oregon_st', '7', '263,357', '37,622'],\n",
       "       ['penn_st', '7', '701,800', '100,257'],\n",
       "       ['pittsburgh', '7', '322,531', '46,076'],\n",
       "       ['purdue', '7', '241,158', '34,451'],\n",
       "       ['rice', '6', '128,551', '21,425'],\n",
       "       ['rutgers', '7', '313,629', '44,804'],\n",
       "       ['san_diego_st', '6', '223,735', '37,289'],\n",
       "       ['san_jose_st', '6', '92,515', '15,419'],\n",
       "       ['smu', '6', '142,272', '23,712'],\n",
       "       ['south_ala', '7', '113,749', '16,250'],\n",
       "       ['south_carolina', '7', '538,441', '76,920'],\n",
       "       ['south_fla', '7', '262,772', '37,539'],\n",
       "       ['southern_california', '6', '410,755', '68,459'],\n",
       "       ['southern_miss', '6', '171,525', '28,588'],\n",
       "       ['stanford', '6', '264,853', '44,142'],\n",
       "       ['syracuse', '6', '196,828', '32,805'],\n",
       "       ['tcu', '7', '316,179', '45,168'],\n",
       "       ['temple', '7', '190,574', '27,225'],\n",
       "       ['tennessee', '7', '706,776', '100,968'],\n",
       "       ['texas', '6', '587,283', '97,881'],\n",
       "       ['texas_a_m', '7', '713,418', '101,917'],\n",
       "       ['texas_st', '6', '108,717', '18,120'],\n",
       "       ['texas_tech', '6', '349,498', '58,250'],\n",
       "       ['toledo', '6', '123,766', '20,628'],\n",
       "       ['troy', '6', '135,203', '22,534'],\n",
       "       ['tulane', '6', '136,310', '22,718'],\n",
       "       ['tulsa', '6', '115,404', '19,234'],\n",
       "       ['ucf', '6', '214,814', '35,802'],\n",
       "       ['ucla', '6', '404,751', '67,459'],\n",
       "       ['uconn', '7', '187,569', '26,796'],\n",
       "       ['unlv', '6', '110,336', '18,389'],\n",
       "       ['utah', '6', '279,038', '46,506'],\n",
       "       ['utah_st', '6', '114,814', '19,136'],\n",
       "       ['utep', '7', '161,004', '23,001'],\n",
       "       ['utsa', '6', '138,226', '23,038'],\n",
       "       ['vanderbilt', '6', '187,451', '31,242'],\n",
       "       ['virginia', '6', '239,576', '39,929'],\n",
       "       ['virginia_tech', '6', '378,259', '63,043'],\n",
       "       ['wake_forest', '7', '185,192', '26,456'],\n",
       "       ['washington', '7', '452,123', '64,589'],\n",
       "       ['washington_st', '7', '221,722', '31,675'],\n",
       "       ['west_virginia', '7', '403,084', '57,583'],\n",
       "       ['western_ky', '7', '123,935', '17,705'],\n",
       "       ['western_mich', '6', '143,025', '23,838'],\n",
       "       ['wisconsin', '6', '476,144', '79,357'],\n",
       "       ['wyoming', '7', '148,860', '21,266'],\n",
       "       ['alabama_a_m', '4', '29,135', '7,284'],\n",
       "       ['alabama_st', '5', '38,674', '7,735'],\n",
       "       ['albany_ny', '6', '35,565', '5,928'],\n",
       "       ['alcorn_st', '5', '71,716', '14,343'],\n",
       "       ['ark_pine_bluff', '4', '19,538', '4,885'],\n",
       "       ['austin_peay', '5', '30,587', '6,117'],\n",
       "       ['bethune_cookman', '4', '25,138', '6,285'],\n",
       "       ['brown', '5', '22,095', '4,419'],\n",
       "       ['bryant', '5', '19,136', '3,827'],\n",
       "       ['bucknell', '5', '16,618', '3,324'],\n",
       "       ['butler', '5', '20,532', '4,106'],\n",
       "       ['cal_poly', '6', '45,423', '7,571'],\n",
       "       ['campbell', '6', '33,138', '5,523'],\n",
       "       ['central_ark.', '6', '46,998', '7,833'],\n",
       "       ['central_conn_st', '5', '14,726', '2,945'],\n",
       "       ['charleston_so', '5', '13,560', '2,712'],\n",
       "       ['chattanooga', '7', '62,204', '8,886'],\n",
       "       ['colgate', '4', '24,318', '6,080'],\n",
       "       ['columbia', '5', '26,062', '5,212'],\n",
       "       ['cornell', '5', '37,227', '7,445'],\n",
       "       ['dartmouth', '5', '28,190', '5,638'],\n",
       "       ['davidson', '5', '17,643', '3,529'],\n",
       "       ['dayton', '6', '17,495', '2,916'],\n",
       "       ['delaware', '5', '82,390', '16,478'],\n",
       "       ['delaware_st', '5', '9,873', '1,975'],\n",
       "       ['drake', '6', '12,980', '2,163'],\n",
       "       ['duquesne', '6', '9,325', '1,554'],\n",
       "       ['eastern_ill', '5', '29,067', '5,813'],\n",
       "       ['eastern_ky', '5', '40,400', '8,080'],\n",
       "       ['eastern_wash', '8', '67,477', '8,435'],\n",
       "       ['elon', '6', '42,878', '7,146'],\n",
       "       ['etsu', '6', '46,009', '7,668'],\n",
       "       ['florida_a_m', '4', '78,839', '19,710'],\n",
       "       ['fordham', '6', '32,493', '5,416'],\n",
       "       ['furman', '5', '28,855', '5,771'],\n",
       "       ['gardner_webb', '6', '25,767', '4,295'],\n",
       "       ['georgetown', '6', '12,029', '2,005'],\n",
       "       ['grambling', '2', '32,669', '16,335'],\n",
       "       ['hampton', '5', '32,685', '6,537'],\n",
       "       ['harvard', '5', '73,709', '14,742'],\n",
       "       ['holy_cross', '4', '28,845', '7,211'],\n",
       "       ['houston_baptist', '5', '16,379', '3,276'],\n",
       "       ['howard', '4', '11,354', '2,839'],\n",
       "       ['idaho_st', '5', '29,293', '5,859'],\n",
       "       ['illinois_st', '6', '60,937', '10,156'],\n",
       "       ['indiana_st', '5', '25,763', '5,153'],\n",
       "       ['jackson_st', '5', '98,298', '19,660'],\n",
       "       ['jacksonville', '5', '9,247', '1,849'],\n",
       "       ['jacksonville_st', '7', '123,030', '17,576'],\n",
       "       ['james_madison', '8', '158,754', '19,844'],\n",
       "       ['kennesaw_st', '6', '46,608', '7,768'],\n",
       "       ['lafayette', '5', '36,682', '7,336'],\n",
       "       ['lamar_university', '6', '44,574', '7,429'],\n",
       "       ['lehigh', '5', '32,634', '6,527'],\n",
       "       ['liberty', '6', '98,259', '16,377'],\n",
       "       ['maine', '5', '39,686', '7,937'],\n",
       "       ['marist', '6', '13,241', '2,207'],\n",
       "       ['mcneese', '6', '63,058', '10,510'],\n",
       "       ['mercer', '5', '56,186', '11,237'],\n",
       "       ['mississippi_val', '4', '11,681', '2,920'],\n",
       "       ['missouri_st', '5', '50,485', '10,097'],\n",
       "       ['monmouth', '3', '9,517', '3,172'],\n",
       "       ['montana', '6', '152,261', '25,377'],\n",
       "       ['montana_st', '6', '107,442', '17,907'],\n",
       "       ['morehead_st', '6', '34,415', '5,736'],\n",
       "       ['morgan_st', '5', '22,067', '4,413'],\n",
       "       ['murray_st', '5', '30,840', '6,168'],\n",
       "       ['n_c_a_t', '5', '72,360', '14,472'],\n",
       "       ['n_c_central', '5', '41,211', '8,242'],\n",
       "       ['new_hampshire', '6', '57,782', '9,630'],\n",
       "       ['nicholls_st', '5', '37,158', '7,432'],\n",
       "       ['norfolk_st', '5', '48,717', '9,743'],\n",
       "       ['north_dakota', '6', '59,665', '9,944'],\n",
       "       ['north_dakota_st', '9', '167,002', '18,556'],\n",
       "       ['northern_ariz', '5', '39,549', '7,910'],\n",
       "       ['northern_colo', '5', '24,477', '4,895'],\n",
       "       ['northwestern_st', '5', '39,714', '7,943'],\n",
       "       ['penn', '5', '27,948', '5,590'],\n",
       "       ['portland_st', '5', '22,948', '4,590'],\n",
       "       ['prairie_view', '4', '48,777', '12,194'],\n",
       "       ['presbyterian', '4', '13,194', '3,299'],\n",
       "       ['princeton', '5', '44,951', '8,990'],\n",
       "       ['rhode_island', '5', '19,839', '3,968'],\n",
       "       ['richmond', '7', '55,481', '7,926'],\n",
       "       ['robert_morris', '5', '10,055', '2,011'],\n",
       "       ['sacramento_st', '5', '34,351', '6,870'],\n",
       "       ['sacred_heart', '5', '11,876', '2,375'],\n",
       "       ['saint_francis_pa', '4', '6,468', '1,617'],\n",
       "       ['sam_houston_st', '6', '47,638', '7,940'],\n",
       "       ['samford', '5', '29,486', '5,897'],\n",
       "       ['san_diego', '5', '12,023', '2,405'],\n",
       "       ['savannah_st', '4', '17,907', '4,477'],\n",
       "       ['sfa', '5', '49,239', '9,848'],\n",
       "       ['south_carolina_st', '4', '40,593', '10,148'],\n",
       "       ['south_dakota', '5', '44,174', '8,835'],\n",
       "       ['south_dakota_st', '7', '96,268', '13,753'],\n",
       "       ['southeast_mo_st', '5', '26,813', '5,363'],\n",
       "       ['southeastern_la', '5', '27,746', '5,549'],\n",
       "       ['southern_ill', '6', '47,511', '7,919'],\n",
       "       ['southern_u', '4', '54,711', '13,678'],\n",
       "       ['southern_utah', '5', '41,276', '8,255'],\n",
       "       ['stetson', '6', '20,629', '3,438'],\n",
       "       ['stony_brook', '6', '41,719', '6,953'],\n",
       "       ['tennessee_st', '4', '55,113', '13,778'],\n",
       "       ['tennessee_tech', '5', '33,765', '6,753'],\n",
       "       ['texas_southern', '5', '26,855', '5,371'],\n",
       "       ['the_citadel', '6', '70,363', '11,727'],\n",
       "       ['towson', '5', '28,514', '5,703'],\n",
       "       ['uc_davis', '5', '31,931', '6,386'],\n",
       "       ['uni', '5', '60,613', '12,123'],\n",
       "       ['ut_martin', '5', '18,440', '3,688'],\n",
       "       ['valparaiso', '5', '10,171', '2,034'],\n",
       "       ['villanova', '6', '32,826', '5,471'],\n",
       "       ['vmi', '4', '24,765', '6,191'],\n",
       "       ['wagner', '6', '14,514', '2,419'],\n",
       "       ['weber_st', '5', '43,672', '8,734'],\n",
       "       ['western_caro', '5', '52,323', '10,465'],\n",
       "       ['western_ill', '5', '24,549', '4,910'],\n",
       "       ['william_mary', '5', '50,838', '10,168'],\n",
       "       ['wofford', '6', '40,732', '6,789'],\n",
       "       ['yale', '5', '43,977', '8,795'],\n",
       "       ['youngstown_st', '8', '99,508', '12,439']],\n",
       "      dtype='<U19')"
      ]
     },
     "execution_count": 16,
     "metadata": {},
     "output_type": "execute_result"
    }
   ],
   "source": [
    "words = left_text5.split(' ')\n",
    "word_array = np.array(words).reshape(-1, 4)\n",
    "word_array"
   ]
  },
  {
   "cell_type": "code",
   "execution_count": 17,
   "metadata": {
    "collapsed": true
   },
   "outputs": [],
   "source": [
    "dataf = pd.DataFrame(word_array)"
   ]
  },
  {
   "cell_type": "code",
   "execution_count": 18,
   "metadata": {
    "collapsed": true
   },
   "outputs": [],
   "source": [
    "years = dataf.head()"
   ]
  },
  {
   "cell_type": "code",
   "execution_count": 19,
   "metadata": {
    "collapsed": true
   },
   "outputs": [],
   "source": [
    "years = ['2009', '2010', '2011', '2012', '2013', '2014', '2015', '2016']\n",
    "path_1 = '/Users/murdock/Documents/PDF_files/2016.pdf'\n",
    "pdfFileObj_1 = open(path_1, 'rb')\n",
    "pdfReader_1 = PyPDF2.PdfFileReader(pdfFileObj_1)"
   ]
  },
  {
   "cell_type": "code",
   "execution_count": 20,
   "metadata": {
    "collapsed": true
   },
   "outputs": [],
   "source": [
    "pageObj_1 = pdfReader_1.getPage(6)\n",
    "sp = pageObj_1.extractText()\n",
    "pageObj_2 = pdfReader_1.getPage(7)\n",
    "sp2 = pageObj_2.extractText()\n",
    "pageObj_3 = pdfReader_1.getPage(8)\n",
    "sp3 = pageObj_3.extractText()"
   ]
  },
  {
   "cell_type": "markdown",
   "metadata": {},
   "source": [
    "### Make final functions to parse all PDF files"
   ]
  },
  {
   "cell_type": "code",
   "execution_count": 21,
   "metadata": {
    "collapsed": true
   },
   "outputs": [],
   "source": [
    "def replace_text(text, list_of_names):\n",
    "    \"\"\"\n",
    "    Finds and replaces all team neames in a text with names that have underscores\n",
    "    \n",
    "    INPUTS:\n",
    "    text - a string of text\n",
    "    list_of_names - the list of all schools and the names that should be replaced\n",
    "    \n",
    "    RETURNS:\n",
    "    The original text with the school names replaced to names with underscores\n",
    "    \"\"\"\n",
    "    for name in list_of_names:\n",
    "        if name[0].lower() in text:\n",
    "            text = text.replace(name[0].lower(), name[1].lower())\n",
    "    return text"
   ]
  },
  {
   "cell_type": "code",
   "execution_count": 22,
   "metadata": {
    "collapsed": true
   },
   "outputs": [],
   "source": [
    "def read_pdf_files():\n",
    "    \"\"\"\n",
    "    Parses all pdf files from the desired years to obtain attendance records for all schools\n",
    "    \n",
    "    INPUTS:\n",
    "    none as the years and all information are inside the function.\n",
    "    \n",
    "    RETURNS:\n",
    "    a dataframe with every division I team's attendances for the given years\n",
    "    \"\"\"\n",
    "    df = pd.DataFrame()\n",
    "    year = []\n",
    "    years = ['2009', '2010', '2011', '2012', '2013Release', '2014', '2015', '2016']\n",
    "    base = '/Users/murdock/Documents/PDF_files/'\n",
    "    for year in years:\n",
    "        #print(year)\n",
    "        path = base + year + '.pdf'\n",
    "        pdfFileObj_1 = open(path, 'rb')\n",
    "        pdfReader_1 = PyPDF2.PdfFileReader(pdfFileObj_1)\n",
    "        if years.index(year) < 5:\n",
    "            pageObj_1 = pdfReader_1.getPage(5)\n",
    "            sp = pageObj_1.extractText()\n",
    "            pageObj_2 = pdfReader_1.getPage(6)\n",
    "            sp2 = pageObj_2.extractText()\n",
    "            pageObj_3 = pdfReader_1.getPage(7)\n",
    "            sp3 = pageObj_3.extractText()\n",
    "            if year == '2013Release':\n",
    "                s1 = '2013 ncaa division i fbs team-by-team attendance  '\n",
    "                s2 = '2013 ncaa division i fcs team-by-team attendance  '\n",
    "            else:\n",
    "                s1 = '{} ncaa division i fbs team-by-team attendance  '.format(year)\n",
    "                s2 = '{} ncaa division i fcs team-by-team attendance  '.format(year)\n",
    "        else:\n",
    "            pageObj_1 = pdfReader_1.getPage(6)\n",
    "            sp = pageObj_1.extractText()\n",
    "            pageObj_2 = pdfReader_1.getPage(7)\n",
    "            sp2 = pageObj_2.extractText()\n",
    "            pageObj_3 = pdfReader_1.getPage(8)\n",
    "            sp3 = pageObj_3.extractText()\n",
    "            s1 = '{} ncaa division i fbs team-by-team home attendance  '.format(year)\n",
    "            s2 = '{} ncaa division i fcs team-by-team home attendance  '.format(year)\n",
    "        combined_pages = sp + ' ' + sp2 + ' ' + sp3\n",
    "        cleaned_string = combined_pages.replace('\\n','').lower()\n",
    "        pages = replace_text(cleaned_string, all_teams_sorted)\n",
    "        if year == '2013Release':\n",
    "            left_text = pages.partition(\" 2013 ncaa division ii team-by-team football\")[0]\n",
    "        elif year == '2016':\n",
    "            left_text = pages.partition(\"  {} ncaa division ii team-by-team football\".format(year))[0]\n",
    "        elif years.index(year) > 4:\n",
    "            left_text = pages.partition(\" {} ncaa division ii team-by-team football\".format(year))[0]\n",
    "        else:\n",
    "            left_text = pages.partition(\"  {} ncaa division ii team-by-team football\".format(year))[0]\n",
    "        left_text2 = re.sub(s1, '', left_text)\n",
    "        left_text3 = re.sub(s2, '', left_text2)\n",
    "        left_text4 = re.sub('  ', ' ', left_text3)\n",
    "        left_text5 = re.sub('school g attendance average ', '', left_text4)\n",
    "        words = left_text5.split(' ')\n",
    "        word_array = np.array(words).reshape(-1, 4)\n",
    "        #print(word_array.shape)\n",
    "        word_df = pd.DataFrame(word_array)\n",
    "        df = pd.concat([df, word_df], ignore_index=True)\n",
    "    return df"
   ]
  },
  {
   "cell_type": "markdown",
   "metadata": {},
   "source": [
    "### making a dataframe of school info and pickling"
   ]
  },
  {
   "cell_type": "code",
   "execution_count": 23,
   "metadata": {
    "collapsed": true,
    "scrolled": true
   },
   "outputs": [],
   "source": [
    "df = read_pdf_files()"
   ]
  },
  {
   "cell_type": "code",
   "execution_count": 24,
   "metadata": {},
   "outputs": [
    {
     "data": {
      "text/plain": [
       "array(['2009', '2009', '2009', ..., '2016', '2016', '2016'],\n",
       "      dtype='<U4')"
      ]
     },
     "execution_count": 24,
     "metadata": {},
     "output_type": "execute_result"
    }
   ],
   "source": [
    "team_years = np.repeat(('2009', '2010', '2011', '2012', '2013', '2014', '2015', '2016'), (238, 237, 241, 249, 247, 245, 250, 250))\n",
    "team_years"
   ]
  },
  {
   "cell_type": "code",
   "execution_count": 25,
   "metadata": {},
   "outputs": [
    {
     "data": {
      "text/html": [
       "<div>\n",
       "<style>\n",
       "    .dataframe thead tr:only-child th {\n",
       "        text-align: right;\n",
       "    }\n",
       "\n",
       "    .dataframe thead th {\n",
       "        text-align: left;\n",
       "    }\n",
       "\n",
       "    .dataframe tbody tr th {\n",
       "        vertical-align: top;\n",
       "    }\n",
       "</style>\n",
       "<table border=\"1\" class=\"dataframe\">\n",
       "  <thead>\n",
       "    <tr style=\"text-align: right;\">\n",
       "      <th></th>\n",
       "      <th>School</th>\n",
       "      <th>Home_Games</th>\n",
       "      <th>Attendance</th>\n",
       "      <th>Average</th>\n",
       "    </tr>\n",
       "  </thead>\n",
       "  <tbody>\n",
       "    <tr>\n",
       "      <th>0</th>\n",
       "      <td>air_force</td>\n",
       "      <td>6</td>\n",
       "      <td>213,937</td>\n",
       "      <td>35,656</td>\n",
       "    </tr>\n",
       "    <tr>\n",
       "      <th>1</th>\n",
       "      <td>akron</td>\n",
       "      <td>6</td>\n",
       "      <td>104,293</td>\n",
       "      <td>17,382</td>\n",
       "    </tr>\n",
       "    <tr>\n",
       "      <th>2</th>\n",
       "      <td>alabama</td>\n",
       "      <td>7</td>\n",
       "      <td>644,084</td>\n",
       "      <td>92,012</td>\n",
       "    </tr>\n",
       "    <tr>\n",
       "      <th>3</th>\n",
       "      <td>arizona</td>\n",
       "      <td>6</td>\n",
       "      <td>315,330</td>\n",
       "      <td>52,555</td>\n",
       "    </tr>\n",
       "    <tr>\n",
       "      <th>4</th>\n",
       "      <td>arizona_st</td>\n",
       "      <td>7</td>\n",
       "      <td>339,890</td>\n",
       "      <td>48,556</td>\n",
       "    </tr>\n",
       "  </tbody>\n",
       "</table>\n",
       "</div>"
      ],
      "text/plain": [
       "       School Home_Games Attendance Average\n",
       "0   air_force          6    213,937  35,656\n",
       "1       akron          6    104,293  17,382\n",
       "2     alabama          7    644,084  92,012\n",
       "3     arizona          6    315,330  52,555\n",
       "4  arizona_st          7    339,890  48,556"
      ]
     },
     "execution_count": 25,
     "metadata": {},
     "output_type": "execute_result"
    }
   ],
   "source": [
    "df.columns = ['School', 'Home_Games', 'Attendance', 'Average']\n",
    "\n",
    "df.head()"
   ]
  },
  {
   "cell_type": "code",
   "execution_count": 26,
   "metadata": {},
   "outputs": [
    {
     "data": {
      "text/html": [
       "<div>\n",
       "<style>\n",
       "    .dataframe thead tr:only-child th {\n",
       "        text-align: right;\n",
       "    }\n",
       "\n",
       "    .dataframe thead th {\n",
       "        text-align: left;\n",
       "    }\n",
       "\n",
       "    .dataframe tbody tr th {\n",
       "        vertical-align: top;\n",
       "    }\n",
       "</style>\n",
       "<table border=\"1\" class=\"dataframe\">\n",
       "  <thead>\n",
       "    <tr style=\"text-align: right;\">\n",
       "      <th></th>\n",
       "      <th>School</th>\n",
       "      <th>Home_Games</th>\n",
       "      <th>Attendance</th>\n",
       "      <th>Average</th>\n",
       "      <th>Year</th>\n",
       "    </tr>\n",
       "  </thead>\n",
       "  <tbody>\n",
       "    <tr>\n",
       "      <th>0</th>\n",
       "      <td>air_force</td>\n",
       "      <td>6</td>\n",
       "      <td>213,937</td>\n",
       "      <td>35,656</td>\n",
       "      <td>2009</td>\n",
       "    </tr>\n",
       "    <tr>\n",
       "      <th>1</th>\n",
       "      <td>akron</td>\n",
       "      <td>6</td>\n",
       "      <td>104,293</td>\n",
       "      <td>17,382</td>\n",
       "      <td>2009</td>\n",
       "    </tr>\n",
       "    <tr>\n",
       "      <th>2</th>\n",
       "      <td>alabama</td>\n",
       "      <td>7</td>\n",
       "      <td>644,084</td>\n",
       "      <td>92,012</td>\n",
       "      <td>2009</td>\n",
       "    </tr>\n",
       "    <tr>\n",
       "      <th>3</th>\n",
       "      <td>arizona</td>\n",
       "      <td>6</td>\n",
       "      <td>315,330</td>\n",
       "      <td>52,555</td>\n",
       "      <td>2009</td>\n",
       "    </tr>\n",
       "    <tr>\n",
       "      <th>4</th>\n",
       "      <td>arizona_st</td>\n",
       "      <td>7</td>\n",
       "      <td>339,890</td>\n",
       "      <td>48,556</td>\n",
       "      <td>2009</td>\n",
       "    </tr>\n",
       "  </tbody>\n",
       "</table>\n",
       "</div>"
      ],
      "text/plain": [
       "       School Home_Games Attendance Average  Year\n",
       "0   air_force          6    213,937  35,656  2009\n",
       "1       akron          6    104,293  17,382  2009\n",
       "2     alabama          7    644,084  92,012  2009\n",
       "3     arizona          6    315,330  52,555  2009\n",
       "4  arizona_st          7    339,890  48,556  2009"
      ]
     },
     "execution_count": 26,
     "metadata": {},
     "output_type": "execute_result"
    }
   ],
   "source": [
    "df['Year'] = team_years\n",
    "df.head()"
   ]
  },
  {
   "cell_type": "code",
   "execution_count": null,
   "metadata": {
    "collapsed": true
   },
   "outputs": [],
   "source": [
    "df_path = '/Users/murdock/Documents/PDF_files/'\n",
    "df.to_pickle(df_path + 'attendance_df.pkl')"
   ]
  }
 ],
 "metadata": {
  "kernelspec": {
   "display_name": "Python [conda root]",
   "language": "python",
   "name": "conda-root-py"
  },
  "language_info": {
   "codemirror_mode": {
    "name": "ipython",
    "version": 3
   },
   "file_extension": ".py",
   "mimetype": "text/x-python",
   "name": "python",
   "nbconvert_exporter": "python",
   "pygments_lexer": "ipython3",
   "version": "3.6.2"
  }
 },
 "nbformat": 4,
 "nbformat_minor": 2
}
